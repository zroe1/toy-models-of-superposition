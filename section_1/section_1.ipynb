{
 "cells": [
  {
   "cell_type": "markdown",
   "id": "04709ebf-d9d8-4b08-b3c6-fc8aa911679b",
   "metadata": {},
   "source": [
    "# Section 1 of Toy Models of Superposition"
   ]
  },
  {
   "cell_type": "code",
   "execution_count": 1,
   "id": "a13929d0-f0b0-4c16-bbe3-362fc4ddd126",
   "metadata": {},
   "outputs": [],
   "source": [
    "import os\n",
    "import torch\n",
    "from torch import nn\n",
    "from torch.utils.data import DataLoader\n",
    "import matplotlib.pyplot as plt\n",
    "from torchvision import datasets, transforms"
   ]
  },
  {
   "cell_type": "code",
   "execution_count": 2,
   "id": "9183ff62-d9a7-4ed1-b3e3-76f9547ab277",
   "metadata": {},
   "outputs": [
    {
     "name": "stdout",
     "output_type": "stream",
     "text": [
      "Using mps device\n"
     ]
    }
   ],
   "source": [
    "def get_device():\n",
    "    if torch.cuda.is_available():\n",
    "        return \"cuda\"\n",
    "    elif torch.backends.mps.is_available():\n",
    "        return \"mps\"\n",
    "    else:\n",
    "        return \"cpu\"\n",
    "\n",
    "device = get_device()\n",
    "print(f\"Using {device} device\")"
   ]
  },
  {
   "cell_type": "markdown",
   "id": "7a80ef98-de63-494e-bf32-71e2b73133d6",
   "metadata": {},
   "source": [
    "## 0 Sparsity Model"
   ]
  },
  {
   "cell_type": "code",
   "execution_count": 3,
   "id": "0c7a6245-2f02-4c9a-bd6b-6f117133664b",
   "metadata": {},
   "outputs": [],
   "source": [
    "class ToyModelNoSparsity(nn.Module):\n",
    "    def __init__(self):\n",
    "        super().__init__()\n",
    "        self.weights = nn.Parameter(torch.rand(2, 5), requires_grad=True)\n",
    "        self.bias = nn.Parameter(torch.rand(5, 1), requires_grad=True)\n",
    "        self.ReLU = nn.ReLU(inplace=True)\n",
    "        \n",
    "    def forward(self, x): # x is 5 * 1\n",
    "        hidden = self.weights @ x\n",
    "        final = self.weights.T @ hidden\n",
    "        final += self.bias\n",
    "        return self.ReLU(final)\n",
    "        # return hidden\n",
    "\n",
    "class CustomMSELoss(nn.Module):\n",
    "    def __init__(self):\n",
    "        super(CustomMSELoss, self).__init__()\n",
    "\n",
    "    def forward(self, predictions, targets):\n",
    "        sub_total = ((predictions - targets)**2).sum(0)\n",
    "        return sub_total[0] + sub_total[1]\n",
    "        # return (predictions[0] - targets[0])**2 + (predictions[1] - targets[1])**2\n",
    "\n",
    "model = ToyModelNoSparsity().to(device)\n",
    "optimizer = torch.optim.SGD(model.parameters(), lr=1e-3)\n",
    "loss_func = CustomMSELoss()"
   ]
  },
  {
   "cell_type": "code",
   "execution_count": 4,
   "id": "f17f350d-22c4-455e-ac91-41ef8b587421",
   "metadata": {},
   "outputs": [],
   "source": [
    "NUM_EPOCHS = 10\n",
    "BATCHS_PER_EPOCH = 1000\n",
    "BATCH_SIZE = 10\n",
    "\n",
    "\n",
    "def train(loss_fn, optimizer):\n",
    "    model.train()\n",
    "    loss_total = 0\n",
    "    for epoch in range(NUM_EPOCHS):\n",
    "        for i in range(BATCHS_PER_EPOCH):\n",
    "            x = torch.rand(BATCH_SIZE, 5, 1).to(device)\n",
    "            pred = model(x)\n",
    "            loss = loss_fn(pred, x)\n",
    "            loss_total += loss.item()\n",
    "    \n",
    "            loss.backward()\n",
    "            optimizer.step()\n",
    "            optimizer.zero_grad()\n",
    "\n",
    "        print(\"EPHOCH:\", epoch + 1, \"loss:\", loss_total / (BATCHS_PER_EPOCH * BATCH_SIZE))\n",
    "        loss_total = 0"
   ]
  },
  {
   "cell_type": "code",
   "execution_count": 5,
   "id": "abb2bd0e-94be-46e7-a83c-46a2682c53bc",
   "metadata": {},
   "outputs": [
    {
     "name": "stdout",
     "output_type": "stream",
     "text": [
      "EPHOCH: 1 loss: 0.13974299584925176\n",
      "EPHOCH: 2 loss: 0.05760856195688248\n",
      "EPHOCH: 3 loss: 0.012864610306825489\n",
      "EPHOCH: 4 loss: 0.002407945555448532\n",
      "EPHOCH: 5 loss: 0.00047870866390294396\n",
      "EPHOCH: 6 loss: 8.57621162009309e-05\n",
      "EPHOCH: 7 loss: 1.5125769470341765e-05\n",
      "EPHOCH: 8 loss: 2.786391501012986e-06\n",
      "EPHOCH: 9 loss: 4.839874901676922e-07\n",
      "EPHOCH: 10 loss: 8.851857738108038e-08\n"
     ]
    }
   ],
   "source": [
    "train(loss_func, optimizer)"
   ]
  },
  {
   "cell_type": "code",
   "execution_count": 6,
   "id": "77799bd3-7410-4207-9b8c-1282e5241c5d",
   "metadata": {},
   "outputs": [
    {
     "name": "stdout",
     "output_type": "stream",
     "text": [
      "tensor([[ 3.0642e-01, -9.5182e-01],\n",
      "        [ 9.5193e-01,  3.0648e-01],\n",
      "        [ 9.1428e-05,  3.1215e-04],\n",
      "        [ 9.4946e-05,  3.2291e-04],\n",
      "        [ 9.5167e-05,  3.2710e-04]], device='mps:0',\n",
      "       grad_fn=<PermuteBackward0>)\n"
     ]
    }
   ],
   "source": [
    "print(model.weights.T)"
   ]
  },
  {
   "cell_type": "code",
   "execution_count": 7,
   "id": "6ad6d055-8207-415c-a55f-b0430c135350",
   "metadata": {},
   "outputs": [
    {
     "name": "stdout",
     "output_type": "stream",
     "text": [
      "Parameter containing:\n",
      "tensor([[ 5.3713e-04],\n",
      "        [-3.4023e-04],\n",
      "        [ 2.0237e-01],\n",
      "        [ 9.7385e-01],\n",
      "        [ 9.2674e-01]], device='mps:0', requires_grad=True)\n"
     ]
    }
   ],
   "source": [
    "print(model.bias)"
   ]
  },
  {
   "cell_type": "code",
   "execution_count": null,
   "id": "21c06567-f18c-47da-97ae-e7d737216f44",
   "metadata": {},
   "outputs": [],
   "source": []
  }
 ],
 "metadata": {
  "kernelspec": {
   "display_name": "Python 3",
   "language": "python",
   "name": "python3"
  },
  "language_info": {
   "codemirror_mode": {
    "name": "ipython",
    "version": 3
   },
   "file_extension": ".py",
   "mimetype": "text/x-python",
   "name": "python",
   "nbconvert_exporter": "python",
   "pygments_lexer": "ipython3",
   "version": "3.10.1"
  }
 },
 "nbformat": 4,
 "nbformat_minor": 5
}
