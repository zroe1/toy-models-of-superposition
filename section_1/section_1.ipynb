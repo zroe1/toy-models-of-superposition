{
 "cells": [
  {
   "cell_type": "markdown",
   "id": "04709ebf-d9d8-4b08-b3c6-fc8aa911679b",
   "metadata": {},
   "source": [
    "# Section 1 of Toy Models of Superposition"
   ]
  },
  {
   "cell_type": "code",
   "execution_count": 1,
   "id": "a13929d0-f0b0-4c16-bbe3-362fc4ddd126",
   "metadata": {},
   "outputs": [],
   "source": [
    "import os\n",
    "import torch\n",
    "import random\n",
    "from torch import nn\n",
    "# from torch.utils.data import DataLoader\n",
    "import matplotlib.pyplot as plt\n",
    "# from torchvision import datasets, transforms"
   ]
  },
  {
   "cell_type": "code",
   "execution_count": 2,
   "id": "9183ff62-d9a7-4ed1-b3e3-76f9547ab277",
   "metadata": {},
   "outputs": [
    {
     "name": "stdout",
     "output_type": "stream",
     "text": [
      "Using mps device\n"
     ]
    }
   ],
   "source": [
    "def get_device():\n",
    "    if torch.cuda.is_available():\n",
    "        return \"cuda\"\n",
    "    elif torch.backends.mps.is_available():\n",
    "        return \"mps\"\n",
    "    else:\n",
    "        return \"cpu\"\n",
    "\n",
    "device = get_device()\n",
    "print(f\"Using {device} device\")"
   ]
  },
  {
   "cell_type": "markdown",
   "id": "7a80ef98-de63-494e-bf32-71e2b73133d6",
   "metadata": {},
   "source": [
    "## 0 Sparsity Model"
   ]
  },
  {
   "cell_type": "code",
   "execution_count": 3,
   "id": "0c7a6245-2f02-4c9a-bd6b-6f117133664b",
   "metadata": {},
   "outputs": [],
   "source": [
    "class ToyModelNoSparsity(nn.Module):\n",
    "    def __init__(self):\n",
    "        super().__init__()\n",
    "        self.weights = nn.Parameter(torch.rand(2, 5), requires_grad=True)\n",
    "        self.bias = nn.Parameter(torch.rand(5, 1), requires_grad=True)\n",
    "        self.ReLU = nn.ReLU(inplace=True)\n",
    "        \n",
    "    def forward(self, x): # x is 5 * 1\n",
    "        hidden = self.weights @ x\n",
    "        final = self.weights.T @ hidden\n",
    "        final += self.bias\n",
    "        return self.ReLU(final)\n",
    "\n",
    "class NoSparsityLoss(nn.Module):\n",
    "    def __init__(self):\n",
    "        super(NoSparsityLoss, self).__init__()\n",
    "\n",
    "    def forward(self, predictions, targets, importance):\n",
    "        sub_total = ((predictions - targets)**2).sum(0).flatten()\n",
    "        return sum(sub_total * importance)\n",
    "\n",
    "model = ToyModelNoSparsity().to(device)\n",
    "optimizer = torch.optim.SGD(model.parameters(), lr=1e-3)\n",
    "loss_func = NoSparsityLoss()"
   ]
  },
  {
   "cell_type": "code",
   "execution_count": 4,
   "id": "f17f350d-22c4-455e-ac91-41ef8b587421",
   "metadata": {},
   "outputs": [],
   "source": [
    "NUM_EPOCHS = 10\n",
    "BATCHS_PER_EPOCH = 1000\n",
    "BATCH_SIZE = 10\n",
    "\n",
    "\n",
    "def train(loss_fn, optimizer, importance, sparsity):\n",
    "    probability = 1 - sparsity\n",
    "    model.train()\n",
    "    loss_total = 0\n",
    "    for epoch in range(NUM_EPOCHS):\n",
    "        for i in range(BATCHS_PER_EPOCH):\n",
    "            sparsity_tensor = torch.bernoulli(torch.full((5,1), probability))\n",
    "            x = torch.rand(BATCH_SIZE, 5, 1)\n",
    "            x = (x*sparsity_tensor).to(device)\n",
    "            pred = model(x)\n",
    "            loss = loss_fn(pred, x, importance)\n",
    "            loss_total += loss.item()\n",
    "    \n",
    "            loss.backward()\n",
    "            optimizer.step()\n",
    "            optimizer.zero_grad()\n",
    "\n",
    "        print(\"EPHOCH:\", epoch + 1, \"--> loss:\", loss_total / (BATCHS_PER_EPOCH * BATCH_SIZE))\n",
    "        loss_total = 0"
   ]
  },
  {
   "cell_type": "code",
   "execution_count": 5,
   "id": "abb2bd0e-94be-46e7-a83c-46a2682c53bc",
   "metadata": {},
   "outputs": [
    {
     "name": "stdout",
     "output_type": "stream",
     "text": [
      "EPHOCH: 1 --> loss: 0.16393068257570267\n",
      "EPHOCH: 2 --> loss: 0.11825159960985183\n",
      "EPHOCH: 3 --> loss: 0.11455461211204529\n",
      "EPHOCH: 4 --> loss: 0.1137265843808651\n",
      "EPHOCH: 5 --> loss: 0.11241153759360313\n",
      "EPHOCH: 6 --> loss: 0.11124931304454803\n",
      "EPHOCH: 7 --> loss: 0.10888950218856334\n",
      "EPHOCH: 8 --> loss: 0.10721608261168003\n",
      "EPHOCH: 9 --> loss: 0.1060317343533039\n",
      "EPHOCH: 10 --> loss: 0.10510925270915031\n"
     ]
    }
   ],
   "source": [
    "IMPORTANCE = torch.arange(1, 0, -0.2).to(device)\n",
    "SPARSITY = 0\n",
    "\n",
    "train(loss_func, optimizer, IMPORTANCE, 0.0)"
   ]
  },
  {
   "cell_type": "code",
   "execution_count": 6,
   "id": "77799bd3-7410-4207-9b8c-1282e5241c5d",
   "metadata": {},
   "outputs": [
    {
     "name": "stdout",
     "output_type": "stream",
     "text": [
      "tensor([[-1.3018e-01,  9.9098e-01],\n",
      "        [-8.8648e-01, -1.4137e-01],\n",
      "        [ 4.2979e-01,  3.8821e-02],\n",
      "        [ 6.4635e-02,  1.0708e-02],\n",
      "        [ 4.5267e-02,  7.0917e-04]], device='mps:0',\n",
      "       grad_fn=<PermuteBackward0>)\n"
     ]
    }
   ],
   "source": [
    "print(model.weights.T)"
   ]
  },
  {
   "cell_type": "code",
   "execution_count": 7,
   "id": "6ad6d055-8207-415c-a55f-b0430c135350",
   "metadata": {},
   "outputs": [
    {
     "name": "stdout",
     "output_type": "stream",
     "text": [
      "Parameter containing:\n",
      "tensor([[0.0227],\n",
      "        [0.3555],\n",
      "        [0.5883],\n",
      "        [0.5156],\n",
      "        [0.5051]], device='mps:0', requires_grad=True)\n"
     ]
    }
   ],
   "source": [
    "print(model.bias)"
   ]
  },
  {
   "cell_type": "code",
   "execution_count": 8,
   "id": "a1320bec-f1db-4466-8f8e-06f4baa7c7f8",
   "metadata": {},
   "outputs": [],
   "source": [
    "w = model.weights.T.to('cpu').detach()"
   ]
  },
  {
   "cell_type": "code",
   "execution_count": 9,
   "id": "21c06567-f18c-47da-97ae-e7d737216f44",
   "metadata": {},
   "outputs": [
    {
     "data": {
      "image/png": "[encoded data removed]",
      "text/plain": [
       "<Figure size 1020x680 with 1 Axes>"
      ]
     },
     "metadata": {
      "needs_background": "light"
     },
     "output_type": "display_data"
    }
   ],
   "source": [
    "plt.figure(dpi=170)\n",
    "plt.axis([-1.1, 1.1, -1.1, 1.1])\n",
    "\n",
    "for i in range(5):\n",
    "    w_i = w[i]\n",
    "    slope = w_i[1]/w_i[0]\n",
    "    \n",
    "    b = slope * slope\n",
    "    n = torch.norm(w_i).item()\n",
    "    limit = n/torch.sqrt(1 + slope**2).item()\n",
    "    \n",
    "    x2 = torch.arange(start=0, end=limit + 1.5, step=0.01)\n",
    "    y2 = x2 * slope\n",
    "    x = torch.arange(start=0, end=limit, step=0.01)\n",
    "    y = x * slope\n",
    "\n",
    "    rand_color = (1 - random.random()/2.75, 0.6 - random.random()/2.75, 0.6 - random.random()/2.75)\n",
    "    lighter_color = (min(1, rand_color[0] + 0.4), rand_color[1] + 0.4, rand_color[2] + 0.4)\n",
    "\n",
    "    plt.plot(x2, y2, '--', color=lighter_color, linewidth=1.5, markeredgecolor='y')\n",
    "    plt.plot(x, y, '-', color=rand_color, label=str(i), linewidth=1.5, markeredgecolor='y')\n",
    "\n",
    "plt.gca().set_aspect('equal', adjustable='box')\n",
    "plt.legend()\n",
    "plt.show()"
   ]
  },
  {
   "cell_type": "code",
   "execution_count": null,
   "id": "616f1062-7a86-438a-a536-d30c533c09f0",
   "metadata": {},
   "outputs": [],
   "source": []
  },
  {
   "cell_type": "code",
   "execution_count": null,
   "id": "44719fba-bdca-4e58-bd92-0fc6949e9960",
   "metadata": {},
   "outputs": [],
   "source": []
  }
 ],
 "metadata": {
  "kernelspec": {
   "display_name": "Python 3",
   "language": "python",
   "name": "python3"
  },
  "language_info": {
   "codemirror_mode": {
    "name": "ipython",
    "version": 3
   },
   "file_extension": ".py",
   "mimetype": "text/x-python",
   "name": "python",
   "nbconvert_exporter": "python",
   "pygments_lexer": "ipython3",
   "version": "3.10.1"
  }
 },
 "nbformat": 4,
 "nbformat_minor": 5
}
