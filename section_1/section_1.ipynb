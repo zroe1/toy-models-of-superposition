{
 "cells": [
  {
   "cell_type": "markdown",
   "id": "04709ebf-d9d8-4b08-b3c6-fc8aa911679b",
   "metadata": {},
   "source": [
    "# Section 1 of Toy Models of Superposition"
   ]
  },
  {
   "cell_type": "code",
   "execution_count": 1,
   "id": "a13929d0-f0b0-4c16-bbe3-362fc4ddd126",
   "metadata": {},
   "outputs": [],
   "source": [
    "import os\n",
    "import torch\n",
    "from torch import nn\n",
    "from torch.utils.data import DataLoader\n",
    "import matplotlib.pyplot as plt\n",
    "from torchvision import datasets, transforms"
   ]
  },
  {
   "cell_type": "code",
   "execution_count": 2,
   "id": "9183ff62-d9a7-4ed1-b3e3-76f9547ab277",
   "metadata": {},
   "outputs": [
    {
     "name": "stdout",
     "output_type": "stream",
     "text": [
      "Using mps device\n"
     ]
    }
   ],
   "source": [
    "def get_device():\n",
    "    if torch.cuda.is_available():\n",
    "        return \"cuda\"\n",
    "    elif torch.backends.mps.is_available():\n",
    "        return \"mps\"\n",
    "    else:\n",
    "        return \"cpu\"\n",
    "\n",
    "device = get_device()\n",
    "print(f\"Using {device} device\")"
   ]
  },
  {
   "cell_type": "markdown",
   "id": "7a80ef98-de63-494e-bf32-71e2b73133d6",
   "metadata": {},
   "source": [
    "## 0 Sparsity Model"
   ]
  },
  {
   "cell_type": "code",
   "execution_count": 3,
   "id": "0c7a6245-2f02-4c9a-bd6b-6f117133664b",
   "metadata": {},
   "outputs": [],
   "source": [
    "class ToyModelNoSparsity(nn.Module):\n",
    "    def __init__(self):\n",
    "        super().__init__()\n",
    "        self.weights = nn.Parameter(torch.rand(2, 5), requires_grad=True)\n",
    "        self.bias = nn.Parameter(torch.rand(5, 1), requires_grad=True)\n",
    "        self.ReLU = nn.ReLU(inplace=True)\n",
    "        \n",
    "    def forward(self, x): # x is 5 * 1\n",
    "        hidden = torch.matmul(self.weights, x)\n",
    "        final = torch.matmul(self.weights.T, hidden)\n",
    "        final += self.bias\n",
    "        return self.ReLU(final)\n",
    "        # return hidden\n",
    "\n",
    "class CustomMSELoss(nn.Module):\n",
    "    def __init__(self):\n",
    "        super(CustomMSELoss, self).__init__()\n",
    "\n",
    "    def forward(self, predictions, targets):\n",
    "        return (predictions[0] - targets[0])**2 + (predictions[1] - targets[1])**2\n",
    "\n",
    "model = ToyModelNoSparsity().to(device)\n",
    "optimizer = torch.optim.SGD(model.parameters(), lr=1e-3)\n",
    "loss_func = CustomMSELoss()\n",
    "\n",
    "def train(loss_fn, optimizer):\n",
    "    model.train()\n",
    "    loss_total = 0\n",
    "    for i in range(20000):\n",
    "        # x = torch.ones(5, 1).to(device)\n",
    "        x = torch.rand(5, 1).to(device)\n",
    "        pred = model(x)\n",
    "        loss = loss_fn(pred, x)\n",
    "        loss_total += loss.item()\n",
    "\n",
    "        loss.backward()\n",
    "        optimizer.step()\n",
    "        optimizer.zero_grad()\n",
    "        # return\n",
    "        \n",
    "\n",
    "        if i % 1000 == 0 and i != 0:\n",
    "            print(\"loss:\", loss_total / 1000)\n",
    "            loss_total = 0"
   ]
  },
  {
   "cell_type": "code",
   "execution_count": 4,
   "id": "55cfc5a5-f0bd-4a94-ad76-a1e83823cdb6",
   "metadata": {},
   "outputs": [],
   "source": [
    "# for i in range(10):\n",
    "#     x = torch.rand(5,1).to(device)\n",
    "#     print(x)\n",
    "#     print(model(x))"
   ]
  },
  {
   "cell_type": "code",
   "execution_count": 5,
   "id": "93756788-58ab-47ca-ae94-ffdcd8c105a2",
   "metadata": {},
   "outputs": [],
   "source": [
    "# importance = torch.tensor([1, 1, 0.0, 0.0, 0.0])"
   ]
  },
  {
   "cell_type": "code",
   "execution_count": 6,
   "id": "abb2bd0e-94be-46e7-a83c-46a2682c53bc",
   "metadata": {},
   "outputs": [
    {
     "name": "stdout",
     "output_type": "stream",
     "text": [
      "loss: 0.33812452913391783\n",
      "loss: 0.13467690217640485\n",
      "loss: 0.12783609981200425\n",
      "loss: 0.12179778016703495\n",
      "loss: 0.11305085868879905\n",
      "loss: 0.0929384533845623\n",
      "loss: 0.09619273880020683\n",
      "loss: 0.09053687064720725\n",
      "loss: 0.07961259642376217\n",
      "loss: 0.08178187953260477\n",
      "loss: 0.07655097778526943\n",
      "loss: 0.07224933696678999\n",
      "loss: 0.06987324978539983\n",
      "loss: 0.06915357640144884\n",
      "loss: 0.06935293157021079\n",
      "loss: 0.05771950121252894\n",
      "loss: 0.05540801834274407\n",
      "loss: 0.04960186266301389\n",
      "loss: 0.0416733879721578\n"
     ]
    }
   ],
   "source": [
    "train(loss_func, optimizer)"
   ]
  },
  {
   "cell_type": "code",
   "execution_count": 7,
   "id": "77799bd3-7410-4207-9b8c-1282e5241c5d",
   "metadata": {},
   "outputs": [
    {
     "name": "stdout",
     "output_type": "stream",
     "text": [
      "tensor([[-0.6705,  0.4646],\n",
      "        [ 0.7398,  0.5218],\n",
      "        [-0.0177,  0.3185],\n",
      "        [ 0.0542,  0.1224],\n",
      "        [-0.0057,  0.2717]], device='mps:0', grad_fn=<PermuteBackward0>)\n"
     ]
    }
   ],
   "source": [
    "print(model.weights.T)"
   ]
  },
  {
   "cell_type": "code",
   "execution_count": 8,
   "id": "6ad6d055-8207-415c-a55f-b0430c135350",
   "metadata": {},
   "outputs": [
    {
     "name": "stdout",
     "output_type": "stream",
     "text": [
      "Parameter containing:\n",
      "tensor([[0.1638],\n",
      "        [0.0324],\n",
      "        [0.7138],\n",
      "        [0.0383],\n",
      "        [0.3858]], device='mps:0', requires_grad=True)\n"
     ]
    }
   ],
   "source": [
    "print(model.bias)"
   ]
  },
  {
   "cell_type": "code",
   "execution_count": null,
   "id": "21c06567-f18c-47da-97ae-e7d737216f44",
   "metadata": {},
   "outputs": [],
   "source": []
  }
 ],
 "metadata": {
  "kernelspec": {
   "display_name": "Python 3",
   "language": "python",
   "name": "python3"
  },
  "language_info": {
   "codemirror_mode": {
    "name": "ipython",
    "version": 3
   },
   "file_extension": ".py",
   "mimetype": "text/x-python",
   "name": "python",
   "nbconvert_exporter": "python",
   "pygments_lexer": "ipython3",
   "version": "3.10.1"
  }
 },
 "nbformat": 4,
 "nbformat_minor": 5
}
