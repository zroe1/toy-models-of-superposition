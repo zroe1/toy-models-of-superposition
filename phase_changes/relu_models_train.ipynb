{
 "cells": [
  {
   "cell_type": "code",
   "execution_count": 15,
   "metadata": {
    "id": "N_xq8u-hOV0F"
   },
   "outputs": [],
   "source": [
    "import torch\n",
    "import matplotlib.pyplot as plt\n",
    "from matplotlib.colors import LinearSegmentedColormap\n",
    "from matplotlib.colors import TwoSlopeNorm\n",
    "import warnings\n",
    "from torch import nn"
   ]
  },
  {
   "cell_type": "code",
   "execution_count": 16,
   "metadata": {
    "colab": {
     "base_uri": "https://localhost:8080/"
    },
    "id": "uczueOklOZmY",
    "outputId": "b931c8cd-04e6-47de-ccba-fd70e9f2d22f"
   },
   "outputs": [
    {
     "name": "stdout",
     "output_type": "stream",
     "text": [
      "Using mps device\n"
     ]
    }
   ],
   "source": [
    "def get_device():\n",
    "    if torch.cuda.is_available():\n",
    "        return \"cuda\"\n",
    "    elif torch.backends.mps.is_available():\n",
    "        return \"mps\"\n",
    "    else:\n",
    "        return \"cpu\"\n",
    "\n",
    "device = get_device()\n",
    "print(f\"Using {device} device\")"
   ]
  },
  {
   "cell_type": "code",
   "execution_count": 17,
   "metadata": {
    "id": "xKisAzQXOiI4"
   },
   "outputs": [],
   "source": [
    "class ManyToyModels(nn.Module):\n",
    "    def __init__(self, m, n, num_models, include_ReLU):\n",
    "        '''Create a toy model\n",
    "\n",
    "        Args:\n",
    "            m (int): the number of neurons (as described in original paper)\n",
    "            n (int): the number of features the Toy model can map.\n",
    "            (The weight matrix is delcared to be m * n)\n",
    "\n",
    "            include_ReLU (bool): if True, a nonlinearity is added to the network\n",
    "        '''\n",
    "        super().__init__()\n",
    "        self.weights = nn.Parameter(torch.randn(num_models, m, n) * 1.5, requires_grad=True)\n",
    "        self.bias = nn.Parameter(torch.randn(num_models, n, 1) * 0.5, requires_grad=True)\n",
    "        self.ReLU = nn.ReLU(inplace=True)\n",
    "        self.inclue_ReLU = include_ReLU\n",
    "\n",
    "    def forward(self, x):\n",
    "        hidden = self.weights @ x\n",
    "        final = torch.transpose(self.weights, -2, -1) @ hidden\n",
    "        final += self.bias\n",
    "        if self.inclue_ReLU:\n",
    "            return self.ReLU(final)\n",
    "        else:\n",
    "            return final\n",
    "\n",
    "class MSE_Multiple_models(nn.Module):\n",
    "    def __init__(self):\n",
    "        super(MSE_Multiple_models, self).__init__()\n",
    "\n",
    "    def forward(self, predictions, targets, importance):\n",
    "        sub_total = ((predictions - targets)**2).sum(0)\n",
    "        return torch.sum(sub_total * importance)"
   ]
  },
  {
   "cell_type": "code",
   "execution_count": 18,
   "metadata": {
    "id": "5HNMvQdmOkjb"
   },
   "outputs": [],
   "source": [
    "sparsity_rows = 1000\n",
    "importance_rows = 100\n",
    "probs = torch.repeat_interleave((torch.arange(0, sparsity_rows) / sparsity_rows), 2 * importance_rows)\n",
    "probs = probs.reshape(sparsity_rows * importance_rows, 1, 2)\n",
    "\n",
    "def train_1000_models(model, num_models, epochs, total_batchs, batch_size, loss_fn, optimizer, importance):\n",
    "\n",
    "    model.train()\n",
    "    loss_total = 0\n",
    "    for epoch in range(epochs):\n",
    "        for i in range(total_batchs):\n",
    "            # calculating sparsity based on model\n",
    "            rand_tensor = torch.rand(sparsity_rows * importance_rows, 1, 2)\n",
    "            sparsity_tensor = (probs > rand_tensor).float()\n",
    "\n",
    "            x = torch.rand(batch_size, num_models, 2, 1)\n",
    "            x = (x*sparsity_tensor).to(device)\n",
    "            pred = model(x)\n",
    "            loss = loss_fn(pred, x, importance)\n",
    "            loss_total += loss.item()  / (total_batchs * batch_size)\n",
    "\n",
    "            loss.backward()\n",
    "            optimizer.step()\n",
    "            optimizer.zero_grad()\n",
    "\n",
    "        print(\"(EPOCH:\", str(epoch + 1) + \")\", \"--> loss:\", loss_total)\n",
    "        loss_total = 0"
   ]
  },
  {
   "cell_type": "code",
   "execution_count": 19,
   "metadata": {
    "id": "ROsMK7XOOmxj"
   },
   "outputs": [],
   "source": [
    "model_test = ManyToyModels(1, 2, 100000, True).to(device)"
   ]
  },
  {
   "cell_type": "code",
   "execution_count": 20,
   "metadata": {
    "id": "AvEPet13Oob_"
   },
   "outputs": [],
   "source": [
    "NUM_EPOCHS = 6\n",
    "BATCHS_PER_EPOCH = 1000\n",
    "BATCH_SIZE = 64\n",
    "LEARNING_RATE = 1e-2"
   ]
  },
  {
   "cell_type": "code",
   "execution_count": 21,
   "metadata": {
    "id": "YR23CBMXOr7m"
   },
   "outputs": [],
   "source": [
    "first_feature_importance = torch.ones(100000, 1)\n",
    "second_feature_importance = ((torch.arange(100)).repeat(1000, 1) / 10).reshape(100000, 1)\n",
    "IMPORTANCE = torch.stack((first_feature_importance, second_feature_importance), dim=1).to(device)"
   ]
  },
  {
   "cell_type": "code",
   "execution_count": 23,
   "metadata": {
    "colab": {
     "base_uri": "https://localhost:8080/"
    },
    "id": "d22_-GedO8Dz",
    "outputId": "b21e8ec1-57b1-4bb3-f423-89559d661729"
   },
   "outputs": [
    {
     "name": "stdout",
     "output_type": "stream",
     "text": [
      "(EPOCH: 1) --> loss: 245705.2817851561\n",
      "(EPOCH: 2) --> loss: 39223.08166796875\n",
      "(EPOCH: 3) --> loss: 34123.73390429686\n",
      "(EPOCH: 4) --> loss: 31683.03798242184\n",
      "(EPOCH: 5) --> loss: 30337.919716796867\n",
      "(EPOCH: 6) --> loss: 29573.83727148439\n",
      "**************************************************\n",
      "(EPOCH: 1) --> loss: 255647.09587890652\n",
      "(EPOCH: 2) --> loss: 39794.02270312497\n",
      "(EPOCH: 3) --> loss: 34726.279933593745\n",
      "(EPOCH: 4) --> loss: 32295.809681640647\n",
      "(EPOCH: 5) --> loss: 30937.214037109363\n",
      "(EPOCH: 6) --> loss: 30166.45762695311\n",
      "**************************************************\n",
      "(EPOCH: 1) --> loss: 246156.64471093766\n",
      "(EPOCH: 2) --> loss: 39392.51835156255\n",
      "(EPOCH: 3) --> loss: 34350.718603515634\n",
      "(EPOCH: 4) --> loss: 31920.517179687486\n",
      "(EPOCH: 5) --> loss: 30546.185976562538\n",
      "(EPOCH: 6) --> loss: 29744.95558789068\n",
      "**************************************************\n",
      "(EPOCH: 1) --> loss: 250382.6378515623\n",
      "(EPOCH: 2) --> loss: 39873.45719921876\n",
      "(EPOCH: 3) --> loss: 34688.636535156234\n",
      "(EPOCH: 4) --> loss: 32187.924908203167\n",
      "(EPOCH: 5) --> loss: 30802.904019531252\n",
      "(EPOCH: 6) --> loss: 30021.856761718795\n",
      "**************************************************\n",
      "(EPOCH: 1) --> loss: 252871.3494921878\n",
      "(EPOCH: 2) --> loss: 39430.11249218749\n",
      "(EPOCH: 3) --> loss: 34412.729187500016\n",
      "(EPOCH: 4) --> loss: 31955.15791992183\n",
      "(EPOCH: 5) --> loss: 30533.405884765627\n",
      "(EPOCH: 6) --> loss: 29715.832193359423\n",
      "**************************************************\n",
      "(EPOCH: 1) --> loss: 252349.7622382808\n",
      "(EPOCH: 2) --> loss: 39802.89350390629\n",
      "(EPOCH: 3) --> loss: 34746.862433593735\n",
      "(EPOCH: 4) --> loss: 32280.438605468775\n",
      "(EPOCH: 5) --> loss: 30873.55958398441\n",
      "(EPOCH: 6) --> loss: 30079.180919921837\n",
      "**************************************************\n",
      "(EPOCH: 1) --> loss: 254800.67554687485\n",
      "(EPOCH: 2) --> loss: 39578.02952343751\n",
      "(EPOCH: 3) --> loss: 34473.25686523439\n",
      "(EPOCH: 4) --> loss: 31979.887779296845\n",
      "(EPOCH: 5) --> loss: 30561.297937499985\n",
      "(EPOCH: 6) --> loss: 29789.045957031274\n",
      "**************************************************\n",
      "(EPOCH: 1) --> loss: 250716.59244531245\n",
      "(EPOCH: 2) --> loss: 39530.38233984374\n",
      "(EPOCH: 3) --> loss: 34486.758097656246\n",
      "(EPOCH: 4) --> loss: 31976.15763867188\n",
      "(EPOCH: 5) --> loss: 30552.88396484377\n",
      "(EPOCH: 6) --> loss: 29765.59380859376\n",
      "**************************************************\n",
      "(EPOCH: 1) --> loss: 245378.47779687488\n",
      "(EPOCH: 2) --> loss: 39547.16179687502\n",
      "(EPOCH: 3) --> loss: 34473.453542968775\n",
      "(EPOCH: 4) --> loss: 32016.999669921865\n",
      "(EPOCH: 5) --> loss: 30637.10235351561\n",
      "(EPOCH: 6) --> loss: 29861.227462890623\n",
      "**************************************************\n",
      "(EPOCH: 1) --> loss: 248203.93621093704\n",
      "(EPOCH: 2) --> loss: 39273.12078125003\n",
      "(EPOCH: 3) --> loss: 34257.8961503906\n",
      "(EPOCH: 4) --> loss: 31770.841478515616\n",
      "(EPOCH: 5) --> loss: 30365.813812499993\n",
      "(EPOCH: 6) --> loss: 29568.697757812526\n",
      "**************************************************\n"
     ]
    }
   ],
   "source": [
    "weights_total = None\n",
    "NUM_MODELS_TO_AVG_OVER = 10\n",
    "\n",
    "for i in range(NUM_MODELS_TO_AVG_OVER):\n",
    "  model_test = ManyToyModels(1, 2, 100000, True).to(device)\n",
    "  optimizer = torch.optim.Adam(model_test.parameters(), lr=LEARNING_RATE)\n",
    "  loss_func = MSE_Multiple_models()\n",
    "  num_models = 100000\n",
    "\n",
    "  train_1000_models(model_test, num_models, NUM_EPOCHS, BATCHS_PER_EPOCH, BATCH_SIZE, loss_func, optimizer, IMPORTANCE)\n",
    "  # w = model_test.weights.to('cpu')\n",
    "\n",
    "  w = model_test.weights.to('cpu').reshape(1000, 100, 1, 2)\n",
    "\n",
    "  if weights_total is None:\n",
    "    weights_total = [w]\n",
    "  else:\n",
    "    weights_total.append(w)\n",
    "\n",
    "  print(\"*\" * 50)"
   ]
  },
  {
   "cell_type": "code",
   "execution_count": 25,
   "metadata": {},
   "outputs": [
    {
     "data": {
      "text/plain": [
       "10"
      ]
     },
     "execution_count": 25,
     "metadata": {},
     "output_type": "execute_result"
    }
   ],
   "source": [
    "len(weights_total)"
   ]
  },
  {
   "cell_type": "code",
   "execution_count": 79,
   "metadata": {},
   "outputs": [],
   "source": [
    "w_avgs = None\n",
    "for weights in weights_total:\n",
    "    measured_losses = torch.zeros(1000, 100)\n",
    "    model_first_feature = ((torch.abs(weights[:,:,:, :1]) > 0.8) & (torch.abs(weights[:,:,:, 1:2]) < 0.2)).squeeze()\n",
    "    model_second_feature = ((torch.abs(weights[:,:,:, :1]) < 0.2) & (torch.abs(weights[:,:,:, 1:2]) > 0.8)).squeeze()\n",
    "    measured_losses[model_first_feature] = 1\n",
    "    measured_losses[model_second_feature] = -1\n",
    "\n",
    "    if w_avgs == None:\n",
    "        w_avgs = measured_losses\n",
    "    else:\n",
    "        w_avgs += measured_losses"
   ]
  },
  {
   "cell_type": "code",
   "execution_count": 83,
   "metadata": {
    "id": "kROlHVqOeOGh"
   },
   "outputs": [],
   "source": [
    "model_first_feature = (w_avgs > 5).squeeze() # mapped by 1\n",
    "model_second_feature = (w_avgs < -5).squeeze() # mapped by -1"
   ]
  },
  {
   "cell_type": "code",
   "execution_count": 84,
   "metadata": {
    "id": "Z0ulUzwXej9_"
   },
   "outputs": [],
   "source": [
    "avgs_graph= torch.zeros(1000, 100)\n",
    "avgs_graph[model_first_feature] = 1\n",
    "avgs_graph[model_second_feature] = -1"
   ]
  },
  {
   "cell_type": "code",
   "execution_count": 85,
   "metadata": {
    "id": "iagsqXgjeqcx"
   },
   "outputs": [
    {
     "data": {
      "image/png": "[encoded data removed]",
      "text/plain": [
       "<Figure size 450x450 with 1 Axes>"
      ]
     },
     "metadata": {
      "needs_background": "light"
     },
     "output_type": "display_data"
    }
   ],
   "source": [
    "warnings.filterwarnings('ignore')\n",
    "\n",
    "plt.figure(figsize=(3, 3), dpi=150)\n",
    "\n",
    "# Set the x-axis to a logarithmic scale\n",
    "plt.gca().set_xscale('log')\n",
    "plt.gca().set_yscale('log')\n",
    "\n",
    "colors = [(.4, 0, 1), (1, 1, 1), (1, .4, 0)]  # Purple -> White -> Orange\n",
    "n_bins = 100\n",
    "cm = LinearSegmentedColormap.from_list(\"\", colors, N=n_bins)\n",
    "\n",
    "plt.imshow(avgs_graph, cmap=cm, aspect='auto')\n",
    "\n",
    "# Get current y-ticks\n",
    "current_yticks = plt.gca().get_yticks()\n",
    "\n",
    "plt.gca().invert_yaxis()\n",
    "plt.gca().set_xticklabels(['', '', '0.1', '1', '10', '', ''])\n",
    "plt.gca().set_yticklabels(['', '', '0.1', '0.1', ''])\n",
    "\n",
    "plt.show()"
   ]
  },
  {
   "cell_type": "code",
   "execution_count": null,
   "metadata": {
    "id": "S4zcVxguw1Cs"
   },
   "outputs": [],
   "source": []
  }
 ],
 "metadata": {
  "accelerator": "GPU",
  "colab": {
   "gpuType": "A100",
   "machine_shape": "hm",
   "provenance": []
  },
  "kernelspec": {
   "display_name": "Python 3",
   "language": "python",
   "name": "python3"
  },
  "language_info": {
   "codemirror_mode": {
    "name": "ipython",
    "version": 3
   },
   "file_extension": ".py",
   "mimetype": "text/x-python",
   "name": "python",
   "nbconvert_exporter": "python",
   "pygments_lexer": "ipython3",
   "version": "3.10.1"
  }
 },
 "nbformat": 4,
 "nbformat_minor": 4
}
