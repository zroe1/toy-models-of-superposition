{
 "cells": [
  {
   "cell_type": "markdown",
   "metadata": {},
   "source": [
    "# Training Linear One-Neuron Models"
   ]
  },
  {
   "cell_type": "markdown",
   "metadata": {},
   "source": [
    "This code is for training 100,000 one-neuron models with varying levels of sparsity and different loss functions. The differences in loss functions is described in the replication paper found <a href=\"https://github.com/zroe1/toy_models_of_superposition/blob/main/FINDINGS.pdf\">here.</a>"
   ]
  },
  {
   "cell_type": "code",
   "execution_count": 1,
   "metadata": {
    "id": "N_xq8u-hOV0F"
   },
   "outputs": [],
   "source": [
    "import torch\n",
    "import matplotlib.pyplot as plt\n",
    "from matplotlib.colors import LinearSegmentedColormap\n",
    "from matplotlib.colors import TwoSlopeNorm\n",
    "import warnings\n",
    "from torch import nn"
   ]
  },
  {
   "cell_type": "code",
   "execution_count": 2,
   "metadata": {
    "colab": {
     "base_uri": "https://localhost:8080/"
    },
    "id": "uczueOklOZmY",
    "outputId": "10e63d21-af61-45eb-b158-5f7a892e8dea"
   },
   "outputs": [
    {
     "name": "stdout",
     "output_type": "stream",
     "text": [
      "Using cuda device\n"
     ]
    }
   ],
   "source": [
    "def get_device():\n",
    "    if torch.cuda.is_available():\n",
    "        return \"cuda\"\n",
    "    elif torch.backends.mps.is_available():\n",
    "        return \"mps\"\n",
    "    else:\n",
    "        return \"cpu\"\n",
    "\n",
    "device = get_device()\n",
    "print(f\"Using {device} device\")"
   ]
  },
  {
   "cell_type": "code",
   "execution_count": 3,
   "metadata": {
    "id": "xKisAzQXOiI4"
   },
   "outputs": [],
   "source": [
    "class ManyToyModels(nn.Module):\n",
    "    def __init__(self, m, n, num_models, include_ReLU):\n",
    "        '''Create a toy model\n",
    "\n",
    "        Args:\n",
    "            m (int): the number of neurons (as described in original paper)\n",
    "            n (int): the number of features the Toy model can map.\n",
    "            (The weight matrix is delcared to be m * n)\n",
    "\n",
    "            include_ReLU (bool): if True, a nonlinearity is added to the network\n",
    "        '''\n",
    "        super().__init__()\n",
    "        self.weights = nn.Parameter(torch.randn(num_models, m, n), requires_grad=True)\n",
    "        self.bias = nn.Parameter(torch.randn(num_models, n, 1), requires_grad=True)\n",
    "        self.ReLU = nn.ReLU(inplace=True)\n",
    "        self.inclue_ReLU = include_ReLU\n",
    "\n",
    "    def forward(self, x):\n",
    "        hidden = self.weights @ x\n",
    "        final = torch.transpose(self.weights, -2, -1) @ hidden\n",
    "        final += self.bias\n",
    "        if self.inclue_ReLU:\n",
    "            return self.ReLU(final)\n",
    "        else:\n",
    "            return final\n",
    "\n",
    "class MSE_Multiple_models(nn.Module):\n",
    "    def __init__(self):\n",
    "        super(MSE_Multiple_models, self).__init__()\n",
    "\n",
    "    def forward(self, predictions, targets, importance):\n",
    "        sub_total = ((predictions - targets)**2).sum(0)\n",
    "        return torch.sum(sub_total * importance)"
   ]
  },
  {
   "cell_type": "code",
   "execution_count": 4,
   "metadata": {
    "id": "5HNMvQdmOkjb"
   },
   "outputs": [],
   "source": [
    "sparsity_rows = 1000\n",
    "importance_rows = 100\n",
    "probs = torch.repeat_interleave((torch.arange(0, sparsity_rows) / sparsity_rows), 2 * importance_rows)\n",
    "probs = probs.reshape(sparsity_rows * importance_rows, 1, 2)\n",
    "\n",
    "def train_1000_models(model, num_models, epochs, total_batchs, batch_size, loss_fn, optimizer, importance):\n",
    "    model.train()\n",
    "    loss_total = 0\n",
    "    for epoch in range(epochs):\n",
    "        for i in range(total_batchs):\n",
    "            # calculating sparsity based on model\n",
    "            rand_tensor = torch.rand(sparsity_rows * importance_rows, 1, 2)\n",
    "            sparsity_tensor = (probs > rand_tensor).float()\n",
    "\n",
    "            x = torch.rand(batch_size, num_models, 2, 1)\n",
    "            x = (x*sparsity_tensor).to(device)\n",
    "            pred = model(x)\n",
    "            loss = loss_fn(pred, x, importance)\n",
    "            loss_total += loss.item()\n",
    "\n",
    "            loss.backward()\n",
    "            optimizer.step()\n",
    "            optimizer.zero_grad()\n",
    "\n",
    "        print(\"(EPOCH:\", str(epoch + 1) + \")\", \"--> loss:\", loss_total / (total_batchs * batch_size))\n",
    "        loss_total = 0"
   ]
  },
  {
   "cell_type": "markdown",
   "metadata": {},
   "source": [
    "## Training 100,000 Linear Models"
   ]
  },
  {
   "cell_type": "code",
   "execution_count": 48,
   "metadata": {
    "id": "ROsMK7XOOmxj"
   },
   "outputs": [],
   "source": [
    "model_test = ManyToyModels(1, 2, 100000, False).to(device)"
   ]
  },
  {
   "cell_type": "code",
   "execution_count": 49,
   "metadata": {
    "id": "AvEPet13Oob_"
   },
   "outputs": [],
   "source": [
    "NUM_EPOCHS = 30\n",
    "BATCHS_PER_EPOCH = 100\n",
    "BATCH_SIZE = 128\n",
    "LEARNING_RATE = 1e-2"
   ]
  },
  {
   "cell_type": "code",
   "execution_count": 50,
   "metadata": {
    "id": "YR23CBMXOr7m"
   },
   "outputs": [],
   "source": [
    "first_feature_importance = torch.ones(100000, 1)\n",
    "second_feature_importance = ((torch.arange(100)).repeat(1000, 1) / 10).reshape(100000, 1)\n",
    "IMPORTANCE = torch.stack((first_feature_importance, second_feature_importance), dim=1).to(device)"
   ]
  },
  {
   "cell_type": "code",
   "execution_count": 51,
   "metadata": {
    "colab": {
     "base_uri": "https://localhost:8080/"
    },
    "id": "d22_-GedO8Dz",
    "outputId": "6e2d0114-6a91-4f82-b5db-5fde51b939e0"
   },
   "outputs": [
    {
     "name": "stdout",
     "output_type": "stream",
     "text": [
      "(EPOCH: 1) --> loss: 772262.775\n",
      "(EPOCH: 2) --> loss: 161320.47046875\n",
      "(EPOCH: 3) --> loss: 64857.8904296875\n",
      "(EPOCH: 4) --> loss: 36746.720546875\n",
      "(EPOCH: 5) --> loss: 25857.49462890625\n",
      "(EPOCH: 6) --> loss: 20756.72845703125\n",
      "(EPOCH: 7) --> loss: 18014.30462890625\n",
      "(EPOCH: 8) --> loss: 16400.17115234375\n",
      "(EPOCH: 9) --> loss: 15399.145771484375\n",
      "(EPOCH: 10) --> loss: 14749.794599609375\n",
      "(EPOCH: 11) --> loss: 14311.428212890625\n",
      "(EPOCH: 12) --> loss: 14005.14705078125\n",
      "(EPOCH: 13) --> loss: 13793.63736328125\n",
      "(EPOCH: 14) --> loss: 13630.862958984375\n",
      "(EPOCH: 15) --> loss: 13522.014208984376\n",
      "(EPOCH: 16) --> loss: 13428.155712890624\n",
      "(EPOCH: 17) --> loss: 13361.977666015626\n",
      "(EPOCH: 18) --> loss: 13313.62705078125\n",
      "(EPOCH: 19) --> loss: 13266.664765625\n",
      "(EPOCH: 20) --> loss: 13235.67900390625\n",
      "(EPOCH: 21) --> loss: 13209.346044921875\n",
      "(EPOCH: 22) --> loss: 13188.49134765625\n",
      "(EPOCH: 23) --> loss: 13177.616171875\n",
      "(EPOCH: 24) --> loss: 13170.730908203124\n",
      "(EPOCH: 25) --> loss: 13155.586591796875\n",
      "(EPOCH: 26) --> loss: 13147.834609375\n",
      "(EPOCH: 27) --> loss: 13144.030458984374\n",
      "(EPOCH: 28) --> loss: 13140.792431640624\n",
      "(EPOCH: 29) --> loss: 13137.742265625\n",
      "(EPOCH: 30) --> loss: 13133.289794921875\n"
     ]
    }
   ],
   "source": [
    "optimizer = torch.optim.Adam(model_test.parameters(), lr=LEARNING_RATE)\n",
    "loss_func = MSE_Multiple_models()\n",
    "num_models = 100000\n",
    "\n",
    "train_1000_models(model_test, num_models, NUM_EPOCHS, BATCHS_PER_EPOCH, BATCH_SIZE, loss_func, optimizer, IMPORTANCE)"
   ]
  },
  {
   "cell_type": "code",
   "execution_count": 64,
   "metadata": {
    "colab": {
     "base_uri": "https://localhost:8080/"
    },
    "id": "bTIMn3jKVLno",
    "outputId": "b8982bd9-bfe8-473a-9133-1661e998e3b7"
   },
   "outputs": [
    {
     "name": "stdout",
     "output_type": "stream",
     "text": [
      "(EPOCH: 1) --> loss: 13186.568330078126\n",
      "(EPOCH: 2) --> loss: 13159.0689453125\n",
      "(EPOCH: 3) --> loss: 13161.2562890625\n",
      "(EPOCH: 4) --> loss: 13159.626455078125\n",
      "(EPOCH: 5) --> loss: 13162.96458984375\n",
      "(EPOCH: 6) --> loss: 13160.20685546875\n",
      "(EPOCH: 7) --> loss: 13161.143837890624\n",
      "(EPOCH: 8) --> loss: 13159.79759765625\n",
      "(EPOCH: 9) --> loss: 13162.392265625\n",
      "(EPOCH: 10) --> loss: 13163.2719140625\n",
      "(EPOCH: 11) --> loss: 13161.98828125\n",
      "(EPOCH: 12) --> loss: 13165.759794921874\n",
      "(EPOCH: 13) --> loss: 13161.02978515625\n",
      "(EPOCH: 14) --> loss: 13162.150400390625\n",
      "(EPOCH: 15) --> loss: 13161.86771484375\n",
      "(EPOCH: 16) --> loss: 13163.25552734375\n",
      "(EPOCH: 17) --> loss: 13161.348935546876\n",
      "(EPOCH: 18) --> loss: 13160.00740234375\n",
      "(EPOCH: 19) --> loss: 13161.131328125\n",
      "(EPOCH: 20) --> loss: 13163.4822265625\n",
      "(EPOCH: 21) --> loss: 13160.15080078125\n",
      "(EPOCH: 22) --> loss: 13165.15166015625\n",
      "(EPOCH: 23) --> loss: 13159.871123046874\n",
      "(EPOCH: 24) --> loss: 13160.26337890625\n",
      "(EPOCH: 25) --> loss: 13163.285830078124\n",
      "(EPOCH: 26) --> loss: 13162.858857421876\n",
      "(EPOCH: 27) --> loss: 13163.5047265625\n",
      "(EPOCH: 28) --> loss: 13162.01416015625\n",
      "(EPOCH: 29) --> loss: 13164.847412109375\n",
      "(EPOCH: 30) --> loss: 13163.80177734375\n"
     ]
    }
   ],
   "source": [
    "optimizer = torch.optim.Adam(model_test.parameters(), lr=LEARNING_RATE)\n",
    "loss_func = MSE_Multiple_models()\n",
    "num_models = 100000\n",
    "\n",
    "train_1000_models(model_test, num_models, NUM_EPOCHS, BATCHS_PER_EPOCH, BATCH_SIZE, loss_func, optimizer, IMPORTANCE)"
   ]
  },
  {
   "cell_type": "markdown",
   "metadata": {},
   "source": [
    "## Graphing the Results"
   ]
  },
  {
   "cell_type": "code",
   "execution_count": 65,
   "metadata": {
    "id": "pzADWYWyO9v5"
   },
   "outputs": [],
   "source": [
    "w = model_test.weights.to('cpu')"
   ]
  },
  {
   "cell_type": "code",
   "execution_count": 66,
   "metadata": {
    "id": "HRPyS-FIQtFD"
   },
   "outputs": [],
   "source": [
    "w = w.reshape(1000, 100, 1, 2)"
   ]
  },
  {
   "cell_type": "code",
   "execution_count": 79,
   "metadata": {
    "id": "-WivQDXnQvZy"
   },
   "outputs": [],
   "source": [
    "model_first_feature = ((torch.abs(w[:,:,:, :1]) > 0.8) & (torch.abs(w[:,:,:, 1:2]) < 0.2)).squeeze()\n",
    "model_second_feature = ((torch.abs(w[:,:,:, :1]) < 0.2) & (torch.abs(w[:,:,:, 1:2]) > 0.8)).squeeze()"
   ]
  },
  {
   "cell_type": "code",
   "execution_count": 80,
   "metadata": {
    "id": "A9WutLnVQ0X4"
   },
   "outputs": [],
   "source": [
    "measured_losses = torch.zeros(1000, 100)"
   ]
  },
  {
   "cell_type": "code",
   "execution_count": 87,
   "metadata": {
    "id": "biXY84WBQ0tq"
   },
   "outputs": [],
   "source": [
    "measured_losses[model_first_feature] = 1\n",
    "measured_losses[model_second_feature] = -1"
   ]
  },
  {
   "cell_type": "code",
   "execution_count": 88,
   "metadata": {
    "colab": {
     "base_uri": "https://localhost:8080/",
     "height": 428
    },
    "id": "ufkuCDBbQ2Dh",
    "outputId": "3210e009-d7ac-459a-ccb1-7d9cc4c4ddd9"
   },
   "outputs": [
    {
     "data": {
      "image/png": "[encoded data removed]",
      "text/plain": [
       "<Figure size 450x450 with 1 Axes>"
      ]
     },
     "metadata": {},
     "output_type": "display_data"
    }
   ],
   "source": [
    "warnings.filterwarnings('ignore')\n",
    "\n",
    "plt.figure(figsize=(3, 3), dpi=150)\n",
    "\n",
    "# Set the x-axis to a logarithmic scale\n",
    "plt.gca().set_xscale('log')\n",
    "plt.gca().set_yscale('log')\n",
    "\n",
    "colors = [(.4, 0, 1), (1, 1, 1), (1, .4, 0)]  # Purple -> White -> Orange\n",
    "n_bins = 100\n",
    "cm = LinearSegmentedColormap.from_list(\"\", colors, N=n_bins)\n",
    "\n",
    "plt.imshow(measured_losses, cmap=cm, aspect='auto')\n",
    "\n",
    "# Get current y-ticks\n",
    "current_yticks = plt.gca().get_yticks()\n",
    "\n",
    "plt.gca().invert_yaxis()\n",
    "plt.gca().set_xticklabels(['', '', '0.1', '1', '10', '', ''])\n",
    "plt.gca().set_yticklabels(['', '', '0.1', '0.1', ''])\n",
    "\n",
    "plt.show()"
   ]
  },
  {
   "cell_type": "code",
   "execution_count": null,
   "metadata": {
    "id": "Yqdwo3_aHxP_"
   },
   "outputs": [],
   "source": []
  }
 ],
 "metadata": {
  "accelerator": "GPU",
  "colab": {
   "gpuType": "V100",
   "machine_shape": "hm",
   "provenance": []
  },
  "kernelspec": {
   "display_name": "Python 3",
   "language": "python",
   "name": "python3"
  },
  "language_info": {
   "codemirror_mode": {
    "name": "ipython",
    "version": 3
   },
   "file_extension": ".py",
   "mimetype": "text/x-python",
   "name": "python",
   "nbconvert_exporter": "python",
   "pygments_lexer": "ipython3",
   "version": "3.10.1"
  }
 },
 "nbformat": 4,
 "nbformat_minor": 4
}
