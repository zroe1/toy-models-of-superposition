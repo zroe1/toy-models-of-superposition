{
 "cells": [
  {
   "cell_type": "markdown",
   "id": "1bce69ef-d43b-4888-a7cd-2370ef0f2870",
   "metadata": {},
   "source": [
    "# Theoretical Phase Changes in 1 Neuron Models"
   ]
  },
  {
   "cell_type": "code",
   "execution_count": 110,
   "id": "76e23148-6341-463b-92e0-d5268dabf4a2",
   "metadata": {},
   "outputs": [],
   "source": [
    "import torch\n",
    "import matplotlib.pyplot as plt\n",
    "from matplotlib.colors import LinearSegmentedColormap\n",
    "from matplotlib.colors import TwoSlopeNorm\n",
    "import warnings\n",
    "from torch import nn"
   ]
  },
  {
   "cell_type": "code",
   "execution_count": 111,
   "id": "e60d0c64-8206-4b9b-b135-afef96d5b866",
   "metadata": {},
   "outputs": [],
   "source": [
    "def l1(s):\n",
    "  return (s/3) - (s*s)/4\n",
    "\n",
    "def l2(s, r):\n",
    "  return r * ((s/3) - (s*s)/4)\n",
    "\n",
    "def l3(s, r):\n",
    "  return ((1 + r) * s*s) / 6\n",
    "\n",
    "# Create a tensor\n",
    "rv = torch.zeros(1000, 100)\n",
    "\n",
    "# Create grids\n",
    "i, j = torch.meshgrid(torch.arange(1000), torch.arange(100), indexing='ij')\n",
    "\n",
    "# Calculate s and r for the entire grid\n",
    "s = (i) / 1000\n",
    "r = j / 10\n",
    "\n",
    "# Apply the functions\n",
    "l1_result = l1(s)\n",
    "l2_result = l2(s, r)\n",
    "l3_result = l3(s, r)\n",
    "\n",
    "# Apply the custom min logic\n",
    "condition1 = torch.le(l1_result, l2_result) & torch.le(l1_result, l3_result)\n",
    "condition2 = torch.le(l2_result, l1_result) & torch.le(l2_result, l3_result)\n",
    "\n",
    "rv[condition1] = -1\n",
    "rv[condition2] = 1\n",
    "rv[~condition1 & ~condition2] = 0"
   ]
  },
  {
   "cell_type": "code",
   "execution_count": 112,
   "id": "f7f0e864-a077-4155-bc42-cf81069618c7",
   "metadata": {},
   "outputs": [
    {
     "data": {
      "image/png": "[encoded data removed]",
      "text/plain": [
       "<Figure size 450x450 with 1 Axes>"
      ]
     },
     "metadata": {
      "needs_background": "light"
     },
     "output_type": "display_data"
    }
   ],
   "source": [
    "warnings.filterwarnings('ignore')\n",
    "\n",
    "plt.figure(figsize=(3, 3), dpi=150)\n",
    "\n",
    "# Set the x-axis to a logarithmic scale\n",
    "plt.gca().set_xscale('log')\n",
    "plt.gca().set_yscale('log')\n",
    "\n",
    "colors = [(.4, 0, 1), (1, 1, 1), (1, .4, 0)]  # Purple -> White -> Orange\n",
    "n_bins = 100 \n",
    "cm = LinearSegmentedColormap.from_list(\"\", colors, N=n_bins)\n",
    "\n",
    "plt.imshow(rv, cmap=cm, aspect='auto')\n",
    "\n",
    "# Get current y-ticks\n",
    "current_yticks = plt.gca().get_yticks()\n",
    "\n",
    "plt.gca().invert_yaxis()\n",
    "plt.gca().set_xticklabels(['', '', '0.1', '1', '10', '', ''])\n",
    "plt.gca().set_yticklabels(['', '', '0.1', '0.1', ''])\n",
    "\n",
    "plt.show()"
   ]
  },
  {
   "cell_type": "code",
   "execution_count": null,
   "id": "4d70555b-5759-4f86-8962-3d45482d16e6",
   "metadata": {},
   "outputs": [],
   "source": []
  }
 ],
 "metadata": {
  "kernelspec": {
   "display_name": "Python 3",
   "language": "python",
   "name": "python3"
  },
  "language_info": {
   "codemirror_mode": {
    "name": "ipython",
    "version": 3
   },
   "file_extension": ".py",
   "mimetype": "text/x-python",
   "name": "python",
   "nbconvert_exporter": "python",
   "pygments_lexer": "ipython3",
   "version": "3.10.1"
  }
 },
 "nbformat": 4,
 "nbformat_minor": 5
}
