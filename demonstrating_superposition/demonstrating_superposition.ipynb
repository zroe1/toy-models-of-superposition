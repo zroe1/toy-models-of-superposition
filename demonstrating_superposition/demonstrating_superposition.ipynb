{
 "cells": [
  {
   "cell_type": "code",
   "execution_count": 1,
   "id": "26c4ab04-74a5-4f90-91ee-e8df9ec35b29",
   "metadata": {},
   "outputs": [],
   "source": [
    "import torch\n",
    "import random\n",
    "from torch import nn\n",
    "import matplotlib.pyplot as plt\n",
    "from matplotlib.colors import LinearSegmentedColormap\n",
    "from matplotlib.colors import TwoSlopeNorm"
   ]
  },
  {
   "cell_type": "code",
   "execution_count": 2,
   "id": "c3233e01-4afb-42b7-9dee-b97dbe225cda",
   "metadata": {},
   "outputs": [
    {
     "name": "stdout",
     "output_type": "stream",
     "text": [
      "Using mps device\n"
     ]
    }
   ],
   "source": [
    "def get_device():\n",
    "    if torch.cuda.is_available():\n",
    "        return \"cuda\"\n",
    "    elif torch.backends.mps.is_available():\n",
    "        return \"mps\"\n",
    "    else:\n",
    "        return \"cpu\"\n",
    "\n",
    "device = get_device()\n",
    "print(f\"Using {device} device\")"
   ]
  },
  {
   "cell_type": "code",
   "execution_count": 3,
   "id": "49894922-05a6-4525-b0bd-6cb0bdcc30d0",
   "metadata": {},
   "outputs": [],
   "source": [
    "NUM_EPOCHS = 10\n",
    "BATCHS_PER_EPOCH = 3000\n",
    "BATCH_SIZE = 250\n",
    "LEARNING_RATE = 1e-3\n",
    "IMPORTANCE = (0.7 ** torch.arange(0, 20)).to(device)"
   ]
  },
  {
   "cell_type": "code",
   "execution_count": 4,
   "id": "21654185-c13d-427b-aa38-b0c6ab615c8e",
   "metadata": {},
   "outputs": [],
   "source": [
    "class ToyModel(nn.Module):\n",
    "    def __init__(self, m, n, include_ReLU):\n",
    "        '''Create a toy model\n",
    "\n",
    "        Args:\n",
    "            m (int): the number of neurons (as described in original paper)\n",
    "            n (int): the number of features the Toy model can map.\n",
    "            (The weight matrix is delcared to be m * n)\n",
    "\n",
    "            include_ReLU (bool): if True, a nonlinearity is added to the network\n",
    "        '''\n",
    "        super().__init__()\n",
    "        self.weights = nn.Parameter(torch.randn(m, n), requires_grad=True)\n",
    "        self.bias = nn.Parameter(torch.randn(n, 1), requires_grad=True)\n",
    "        self.ReLU = nn.ReLU(inplace=True)\n",
    "        self.inclue_ReLU = include_ReLU\n",
    "        \n",
    "    def forward(self, x): # x is 5 * 1\n",
    "        # print(\"w\", self.weights)\n",
    "        # print(\"x\", x)\n",
    "        hidden = self.weights @ x\n",
    "        # print(\"hidden\", hidden)\n",
    "        final = self.weights.T @ hidden\n",
    "        final += self.bias\n",
    "        if self.inclue_ReLU:\n",
    "            return self.ReLU(final)\n",
    "        else:\n",
    "            return final\n",
    "\n",
    "class ImporanceWeightedMSE(nn.Module):\n",
    "    def __init__(self):\n",
    "        super(ImporanceWeightedMSE, self).__init__()\n",
    "\n",
    "    def forward(self, predictions, targets, importance):\n",
    "        # print(predictions)\n",
    "        # print(\"*\"*50)\n",
    "        # print(targets)\n",
    "        # print(\"*\"*50)\n",
    "        sub_total = ((predictions - targets)**2).sum(0).flatten() / 10\n",
    "        # print(sub_total)\n",
    "        # print(\"*\"*50)\n",
    "        # print(sum(sub_total * importance))\n",
    "        return sum(sub_total * importance)"
   ]
  },
  {
   "cell_type": "code",
   "execution_count": 5,
   "id": "cc3736e4-45d3-42eb-82ef-bf044ed4963a",
   "metadata": {},
   "outputs": [],
   "source": [
    "def train(model, epochs, total_batchs, batch_size, loss_fn, optimizer, importance, sparsity):\n",
    "    probability = 1 - sparsity\n",
    "    model.train()\n",
    "    loss_total = 0\n",
    "    for epoch in range(epochs):\n",
    "        for i in range(total_batchs):\n",
    "            sparsity_tensor = torch.bernoulli(torch.full((20,1), probability))\n",
    "            x = torch.rand(batch_size, 20, 1)\n",
    "            x = (x*sparsity_tensor).to(device)\n",
    "            pred = model(x)\n",
    "            loss = loss_fn(pred, x, importance)\n",
    "            loss_total += loss.item()\n",
    "    \n",
    "            loss.backward()\n",
    "            optimizer.step()\n",
    "            optimizer.zero_grad()\n",
    "            # if i % 100:\n",
    "                # print(loss_total)\n",
    "            # return\n",
    "\n",
    "        print(\"EPHOCH:\", epoch + 1, \"--> loss:\", loss_total / (total_batchs * batch_size))\n",
    "        loss_total = 0"
   ]
  },
  {
   "cell_type": "code",
   "execution_count": 6,
   "id": "2e32a562-a8fc-4847-a63e-afd15c0e576c",
   "metadata": {},
   "outputs": [],
   "source": [
    "def graph_weights(weights):\n",
    "    w = weights.clone().cpu().detach()\n",
    "    to_graph = w.T @ w\n",
    "    colors = [(.4, 0, 1), (1, 1, 1), (1, .4, 0)]  # Purple -> White -> Orange\n",
    "    n_bins = 100 \n",
    "    cm = LinearSegmentedColormap.from_list(\"\", colors, N=n_bins)\n",
    "    \n",
    "    norm = TwoSlopeNorm(vmin=-1, vcenter=0, vmax=1)\n",
    "    \n",
    "    plt.imshow(to_graph, cmap=cm, norm=norm)\n",
    "    ax = plt.gca()\n",
    "    ax.set_xticks([])\n",
    "    ax.set_yticks([])\n",
    "    plt.show()"
   ]
  },
  {
   "cell_type": "code",
   "execution_count": 7,
   "id": "77549e09-2ca4-499b-865b-cb04296f5e27",
   "metadata": {},
   "outputs": [
    {
     "data": {
      "image/png": "[encoded data removed]",
      "text/plain": [
       "<Figure size 432x288 with 1 Axes>"
      ]
     },
     "metadata": {},
     "output_type": "display_data"
    }
   ],
   "source": [
    "model_0_sparsity = ToyModel(5, 20, False).to(device)\n",
    "graph_weights(model_0_sparsity.weights)"
   ]
  },
  {
   "cell_type": "code",
   "execution_count": 8,
   "id": "a4c5c94b-86d7-4811-8ee3-a7e0065f5ee3",
   "metadata": {},
   "outputs": [
    {
     "name": "stdout",
     "output_type": "stream",
     "text": [
      "EPHOCH: 1 --> loss: 0.04113801106834412\n",
      "EPHOCH: 2 --> loss: 0.01442103400961558\n",
      "EPHOCH: 3 --> loss: 0.00869397275352478\n",
      "EPHOCH: 4 --> loss: 0.006642544395923614\n",
      "EPHOCH: 5 --> loss: 0.006238234987576803\n",
      "EPHOCH: 6 --> loss: 0.0055953476923306785\n",
      "EPHOCH: 7 --> loss: 0.005084957054932913\n",
      "EPHOCH: 8 --> loss: 0.004864426627159119\n",
      "EPHOCH: 9 --> loss: 0.004763872196356455\n",
      "EPHOCH: 10 --> loss: 0.004705761903762817\n"
     ]
    }
   ],
   "source": [
    "SPARSITY = 0.0\n",
    "optimizer = torch.optim.SGD(model_0_sparsity.parameters(), lr=LEARNING_RATE)\n",
    "loss_func = ImporanceWeightedMSE()\n",
    "\n",
    "train(model_0_sparsity, NUM_EPOCHS, BATCHS_PER_EPOCH, BATCH_SIZE, loss_func, optimizer, IMPORTANCE, SPARSITY)"
   ]
  },
  {
   "cell_type": "code",
   "execution_count": 9,
   "id": "45b68ef4-ab30-4035-9e7e-f5c691544c24",
   "metadata": {},
   "outputs": [
    {
     "data": {
      "image/png": "[encoded data removed]",
      "text/plain": [
       "<Figure size 432x288 with 1 Axes>"
      ]
     },
     "metadata": {},
     "output_type": "display_data"
    }
   ],
   "source": [
    "graph_weights(model_0_sparsity.weights)"
   ]
  },
  {
   "cell_type": "code",
   "execution_count": null,
   "id": "7e0ebb63-8ed8-47ac-968f-ae243749c48c",
   "metadata": {},
   "outputs": [],
   "source": []
  }
 ],
 "metadata": {
  "kernelspec": {
   "display_name": "Python 3",
   "language": "python",
   "name": "python3"
  },
  "language_info": {
   "codemirror_mode": {
    "name": "ipython",
    "version": 3
   },
   "file_extension": ".py",
   "mimetype": "text/x-python",
   "name": "python",
   "nbconvert_exporter": "python",
   "pygments_lexer": "ipython3",
   "version": "3.10.1"
  }
 },
 "nbformat": 4,
 "nbformat_minor": 5
}
