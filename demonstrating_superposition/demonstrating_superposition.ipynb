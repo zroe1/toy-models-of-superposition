{
 "cells": [
  {
   "cell_type": "code",
   "execution_count": 5,
   "id": "26c4ab04-74a5-4f90-91ee-e8df9ec35b29",
   "metadata": {},
   "outputs": [],
   "source": [
    "import torch\n",
    "import random\n",
    "from torch import nn\n",
    "import matplotlib.pyplot as plt\n",
    "from matplotlib.colors import LinearSegmentedColormap\n",
    "from matplotlib.colors import TwoSlopeNorm"
   ]
  },
  {
   "cell_type": "code",
   "execution_count": 6,
   "id": "c3233e01-4afb-42b7-9dee-b97dbe225cda",
   "metadata": {},
   "outputs": [
    {
     "name": "stdout",
     "output_type": "stream",
     "text": [
      "Using mps device\n"
     ]
    }
   ],
   "source": [
    "def get_device():\n",
    "    if torch.cuda.is_available():\n",
    "        return \"cuda\"\n",
    "    elif torch.backends.mps.is_available():\n",
    "        return \"mps\"\n",
    "    else:\n",
    "        return \"cpu\"\n",
    "\n",
    "device = get_device()\n",
    "print(f\"Using {device} device\")"
   ]
  },
  {
   "cell_type": "code",
   "execution_count": 7,
   "id": "49894922-05a6-4525-b0bd-6cb0bdcc30d0",
   "metadata": {},
   "outputs": [],
   "source": [
    "IMPORTANCE = (0.7 ** torch.arange(0, 20)).to(device)"
   ]
  },
  {
   "cell_type": "code",
   "execution_count": 8,
   "id": "21654185-c13d-427b-aa38-b0c6ab615c8e",
   "metadata": {},
   "outputs": [],
   "source": [
    "class ToyModel(nn.Module):\n",
    "    def __init__(self, m, n, include_ReLU):\n",
    "        '''Create a toy model\n",
    "\n",
    "        Args:\n",
    "            m (int): the number of neurons (as described in original paper)\n",
    "            n (int): the number of features the Toy model can map.\n",
    "            (The weight matrix is delcared to be m * n)\n",
    "\n",
    "            include_ReLU (bool): if True, a nonlinearity is added to the network\n",
    "        '''\n",
    "        super().__init__()\n",
    "        self.weights = nn.Parameter(torch.randn(m, n), requires_grad=True)\n",
    "        self.bias = nn.Parameter(torch.randn(n, 1), requires_grad=True)\n",
    "        self.ReLU = nn.ReLU(inplace=True)\n",
    "        self.inclue_ReLU = include_ReLU\n",
    "        \n",
    "    def forward(self, x): # x is 5 * 1\n",
    "        # print(\"w\", self.weights)\n",
    "        # print(\"x\", x)\n",
    "        hidden = self.weights @ x\n",
    "        # print(\"hidden\", hidden)\n",
    "        final = self.weights.T @ hidden\n",
    "        final += self.bias\n",
    "        if self.inclue_ReLU:\n",
    "            return self.ReLU(final)\n",
    "        else:\n",
    "            return final\n",
    "\n",
    "class ImporanceWeightedMSE(nn.Module):\n",
    "    def __init__(self):\n",
    "        super(ImporanceWeightedMSE, self).__init__()\n",
    "\n",
    "    def forward(self, predictions, targets, importance):\n",
    "        sub_total = ((predictions - targets)**2).sum(0).flatten()\n",
    "        return sum(sub_total * importance)"
   ]
  },
  {
   "cell_type": "code",
   "execution_count": 9,
   "id": "cc3736e4-45d3-42eb-82ef-bf044ed4963a",
   "metadata": {},
   "outputs": [],
   "source": [
    "def train(model, epochs, total_batchs, batch_size, loss_fn, optimizer, importance, sparsity):\n",
    "    probability = 1 - sparsity\n",
    "    model.train()\n",
    "    loss_total = 0\n",
    "    for epoch in range(epochs):\n",
    "        for i in range(total_batchs):\n",
    "            sparsity_tensor = torch.bernoulli(torch.full((20,1), probability))\n",
    "            x = torch.rand(batch_size, 20, 1)\n",
    "            x = (x*sparsity_tensor).to(device)\n",
    "            pred = model(x)\n",
    "            loss = loss_fn(pred, x, importance)\n",
    "            loss_total += loss.item()\n",
    "    \n",
    "            loss.backward()\n",
    "            optimizer.step()\n",
    "            optimizer.zero_grad()\n",
    "\n",
    "        print(\"(EPOCH:\", str(epoch + 1) + \")\", \"--> loss:\", loss_total / (total_batchs * batch_size))\n",
    "        loss_total = 0"
   ]
  },
  {
   "cell_type": "markdown",
   "id": "225f279e-9fc0-4aa3-9634-a2d7c8a8884c",
   "metadata": {},
   "source": [
    "### Graph weights as heatmap"
   ]
  },
  {
   "cell_type": "code",
   "execution_count": 144,
   "id": "2e32a562-a8fc-4847-a63e-afd15c0e576c",
   "metadata": {},
   "outputs": [],
   "source": [
    "def graph_weights(weights, bias):\n",
    "    fig, axs = plt.subplots(1, 2, figsize=(7, 3.5)) # 1 row, 2 columns\n",
    "    \n",
    "    w = weights.clone().cpu().detach()\n",
    "    to_graph = w.T @ w\n",
    "    colors = [(.4, 0, 1), (1, 1, 1), (1, .4, 0)]  # Purple -> White -> Orange\n",
    "    n_bins = 100 \n",
    "    cm = LinearSegmentedColormap.from_list(\"\", colors, N=n_bins)\n",
    "    \n",
    "    norm = TwoSlopeNorm(vmin=-1, vcenter=0, vmax=1)\n",
    "    \n",
    "    axs[0].imshow(to_graph, cmap=cm, norm=norm)\n",
    "    # ax = plt.gca()\n",
    "    axs[0].set_xticks([])\n",
    "    axs[0].set_yticks([])\n",
    "\n",
    "    graph_biases(bias, axs[1])\n",
    "    plt.subplots_adjust(left=0.0, right=1.4)\n",
    "    plt.tight_layout()\n",
    "    plt.show()\n",
    "\n",
    "def graph_biases(bias, ax_obj):\n",
    "  b = bias.clone().detach().cpu()\n",
    "  colors = [(.4, 0, 1), (1, 1, 1), (1, .4, 0)]  # Purple -> White -> Orange\n",
    "  n_bins = 100 \n",
    "  cm = LinearSegmentedColormap.from_list(\"\", colors, N=n_bins)\n",
    "  \n",
    "  norm = TwoSlopeNorm(vmin=-1, vcenter=0, vmax=1)\n",
    "  \n",
    "  ax_obj.imshow(b, cmap=cm, norm=norm)\n",
    "\n",
    "  ax_obj.set_xticks([])\n",
    "  ax_obj.set_yticks([])\n"
   ]
  },
  {
   "cell_type": "markdown",
   "id": "c1bb23f0-1003-483d-a71d-c10e2a6eed9a",
   "metadata": {},
   "source": [
    "### Graph superposition"
   ]
  },
  {
   "cell_type": "code",
   "execution_count": 149,
   "id": "32cca77f-7e4c-4ad3-bdf9-aa1f7df91cae",
   "metadata": {},
   "outputs": [],
   "source": [
    "def get_superposition_scores(w):\n",
    "  rv = torch.zeros(20,)\n",
    "  for i in range(20):\n",
    "    current_vector = w[i] / torch.norm(w[i])\n",
    "    the_sum = sum((w @ current_vector.reshape(5, 1)) ** 2)\n",
    "    the_sum -= (current_vector.reshape(1, 5) @ w[i]) ** 2\n",
    "    rv[i] = the_sum\n",
    "  return torch.clamp(rv, max=1)\n",
    "\n",
    "def graph_superposition(weights):\n",
    "  w = weights.T.clone().detach().to('cpu')\n",
    "  categories = [str(i) for i in range(20)]\n",
    "  super_scores = get_superposition_scores(w).numpy()\n",
    "  colors = [(0, (i)*(136 /255), (i) * (255/255)) for i in super_scores]\n",
    "  normed_weights = torch.norm(w, dim=1).numpy()\n",
    "\n",
    "  plt.barh(categories, normed_weights[::-1], color=colors[::-1], height=1.0)\n",
    "  plt.axis('off')\n",
    "\n",
    "  plt.show()\n"
   ]
  },
  {
   "cell_type": "markdown",
   "id": "a575a4a9-52e0-4658-81ac-2849c426b05f",
   "metadata": {},
   "source": [
    "## Training linear model"
   ]
  },
  {
   "cell_type": "code",
   "execution_count": 47,
   "id": "98cdbad0-52c3-4c06-a2ad-2b09a3047263",
   "metadata": {},
   "outputs": [],
   "source": [
    "NUM_EPOCHS = 10\n",
    "BATCHS_PER_EPOCH = 2000\n",
    "BATCH_SIZE = 256\n",
    "LEARNING_RATE = 1e-3"
   ]
  },
  {
   "cell_type": "code",
   "execution_count": 48,
   "id": "77549e09-2ca4-499b-865b-cb04296f5e27",
   "metadata": {},
   "outputs": [],
   "source": [
    "model_0_sparsity = ToyModel(5, 20, False).to(device)"
   ]
  },
  {
   "cell_type": "code",
   "execution_count": 49,
   "id": "a4c5c94b-86d7-4811-8ee3-a7e0065f5ee3",
   "metadata": {},
   "outputs": [
    {
     "name": "stdout",
     "output_type": "stream",
     "text": [
      "(EPOCH: 1) --> loss: 13.842857469916344\n",
      "(EPOCH: 2) --> loss: 1.0533535557687284\n",
      "(EPOCH: 3) --> loss: 0.35140590929985044\n",
      "(EPOCH: 4) --> loss: 0.18546878892928362\n",
      "(EPOCH: 5) --> loss: 0.11876310168579221\n",
      "(EPOCH: 6) --> loss: 0.08521280893869698\n",
      "(EPOCH: 7) --> loss: 0.06186920288950205\n",
      "(EPOCH: 8) --> loss: 0.04773891006596386\n",
      "(EPOCH: 9) --> loss: 0.04649249793216586\n",
      "(EPOCH: 10) --> loss: 0.046475054724141956\n"
     ]
    }
   ],
   "source": [
    "SPARSITY = 0.0\n",
    "optimizer = torch.optim.Adam(model_0_sparsity.parameters(), lr=LEARNING_RATE)\n",
    "loss_func = ImporanceWeightedMSE()\n",
    "\n",
    "train(model_0_sparsity, NUM_EPOCHS, BATCHS_PER_EPOCH, BATCH_SIZE, loss_func, optimizer, IMPORTANCE, SPARSITY)"
   ]
  },
  {
   "cell_type": "code",
   "execution_count": 50,
   "id": "45b68ef4-ab30-4035-9e7e-f5c691544c24",
   "metadata": {},
   "outputs": [
    {
     "data": {
      "image/png": "[encoded data removed]",
      "text/plain": [
       "<Figure size 432x288 with 1 Axes>"
      ]
     },
     "metadata": {},
     "output_type": "display_data"
    }
   ],
   "source": [
    "graph_weights(model_0_sparsity.weights)"
   ]
  },
  {
   "cell_type": "markdown",
   "id": "c0e837e4-83dd-49e0-978e-1e2b03bfb9d2",
   "metadata": {},
   "source": [
    "## Training ReLU Model (0 sparsity)"
   ]
  },
  {
   "cell_type": "code",
   "execution_count": 54,
   "id": "8efffa61-3f10-417d-a81e-7cc8ac95fa55",
   "metadata": {},
   "outputs": [],
   "source": [
    "NUM_EPOCHS = 10\n",
    "BATCHS_PER_EPOCH = 2000\n",
    "BATCH_SIZE = 256\n",
    "LEARNING_RATE = 1e-3"
   ]
  },
  {
   "cell_type": "code",
   "execution_count": 55,
   "id": "7e0ebb63-8ed8-47ac-968f-ae243749c48c",
   "metadata": {},
   "outputs": [],
   "source": [
    "model_0_sparsity_relu = ToyModel(5, 20, True).to(device)"
   ]
  },
  {
   "cell_type": "code",
   "execution_count": 56,
   "id": "8b498099-b5f9-4a64-81b5-a6b18b542c50",
   "metadata": {},
   "outputs": [
    {
     "name": "stdout",
     "output_type": "stream",
     "text": [
      "(EPOCH: 1) --> loss: 10.766251503407956\n",
      "(EPOCH: 2) --> loss: 1.5236820839047431\n",
      "(EPOCH: 3) --> loss: 0.9780914185345173\n",
      "(EPOCH: 4) --> loss: 0.8278457116782665\n",
      "(EPOCH: 5) --> loss: 0.6160252014994622\n",
      "(EPOCH: 6) --> loss: 0.4967609033957124\n",
      "(EPOCH: 7) --> loss: 0.14626913760602475\n",
      "(EPOCH: 8) --> loss: 0.08215297842212022\n",
      "(EPOCH: 9) --> loss: 0.05461258794367314\n",
      "(EPOCH: 10) --> loss: 0.049700586959719656\n"
     ]
    }
   ],
   "source": [
    "SPARSITY = 0.0\n",
    "optimizer = torch.optim.Adam(model_0_sparsity_relu.parameters(), lr=LEARNING_RATE)\n",
    "loss_func = ImporanceWeightedMSE()\n",
    "\n",
    "train(model_0_sparsity_relu, NUM_EPOCHS, BATCHS_PER_EPOCH, BATCH_SIZE, loss_func, optimizer, IMPORTANCE, SPARSITY)"
   ]
  },
  {
   "cell_type": "code",
   "execution_count": 57,
   "id": "6fc913c6-cd07-43ec-8d68-1979422edf03",
   "metadata": {},
   "outputs": [
    {
     "data": {
      "image/png": "[encoded data removed]",
      "text/plain": [
       "<Figure size 432x288 with 1 Axes>"
      ]
     },
     "metadata": {},
     "output_type": "display_data"
    }
   ],
   "source": [
    "graph_weights(model_0_sparsity_relu.weights)"
   ]
  },
  {
   "cell_type": "markdown",
   "id": "42ed839a-581b-4df5-a007-bc1d0f4c1487",
   "metadata": {},
   "source": [
    "## Training ReLU Model (70% sparsity)"
   ]
  },
  {
   "cell_type": "code",
   "execution_count": 84,
   "id": "e59acd8e-caf3-440e-89b8-9ee92b0560e5",
   "metadata": {},
   "outputs": [],
   "source": [
    "NUM_EPOCHS = 20\n",
    "BATCHS_PER_EPOCH = 2000\n",
    "BATCH_SIZE = 256\n",
    "LEARNING_RATE = 1e-3"
   ]
  },
  {
   "cell_type": "code",
   "execution_count": 85,
   "id": "e18b9ddf-6722-4ce8-9ac0-24f661947243",
   "metadata": {},
   "outputs": [],
   "source": [
    "model_70_sparsity_relu = ToyModel(5, 20, True).to(device)"
   ]
  },
  {
   "cell_type": "code",
   "execution_count": 86,
   "id": "af3cfd7a-1cb6-4d50-8077-860beb3cfafd",
   "metadata": {},
   "outputs": [
    {
     "name": "stdout",
     "output_type": "stream",
     "text": [
      "(EPOCH: 1) --> loss: 6.523690735599841\n",
      "(EPOCH: 2) --> loss: 0.6754082028447592\n",
      "(EPOCH: 3) --> loss: 0.3181354773049534\n",
      "(EPOCH: 4) --> loss: 0.2696320567087678\n",
      "(EPOCH: 5) --> loss: 0.2340356259973778\n",
      "(EPOCH: 6) --> loss: 0.176900561203307\n",
      "(EPOCH: 7) --> loss: 0.1410988673696047\n",
      "(EPOCH: 8) --> loss: 0.11656451015638596\n",
      "(EPOCH: 9) --> loss: 0.0843777176887088\n",
      "(EPOCH: 10) --> loss: 0.05999339758668793\n",
      "(EPOCH: 11) --> loss: 0.05251670080702752\n",
      "(EPOCH: 12) --> loss: 0.0478038125038147\n",
      "(EPOCH: 13) --> loss: 0.04707775749231223\n",
      "(EPOCH: 14) --> loss: 0.047859911659848875\n",
      "(EPOCH: 15) --> loss: 0.046207906221039596\n",
      "(EPOCH: 16) --> loss: 0.045584003267926165\n",
      "(EPOCH: 17) --> loss: 0.046308274738141336\n",
      "(EPOCH: 18) --> loss: 0.04602162983117159\n",
      "(EPOCH: 19) --> loss: 0.046371702406555415\n",
      "(EPOCH: 20) --> loss: 0.04795091515313834\n"
     ]
    }
   ],
   "source": [
    "SPARSITY = 0.70\n",
    "optimizer = torch.optim.Adam(model_70_sparsity_relu.parameters(), lr=LEARNING_RATE)\n",
    "loss_func = ImporanceWeightedMSE()\n",
    "\n",
    "train(model_70_sparsity_relu, NUM_EPOCHS, BATCHS_PER_EPOCH, BATCH_SIZE, loss_func, optimizer, IMPORTANCE, SPARSITY)"
   ]
  },
  {
   "cell_type": "code",
   "execution_count": 145,
   "id": "5c31f542-a076-4c5a-bc9e-814b93f57549",
   "metadata": {},
   "outputs": [
    {
     "data": {
      "image/png": "[encoded data removed]",
      "text/plain": [
       "<Figure size 504x252 with 2 Axes>"
      ]
     },
     "metadata": {},
     "output_type": "display_data"
    }
   ],
   "source": [
    "graph_weights(model_70_sparsity_relu.weights, model_70_sparsity_relu.bias)"
   ]
  },
  {
   "cell_type": "code",
   "execution_count": 150,
   "id": "bd128931-c4d1-432a-9b2b-4c1d9c934dd2",
   "metadata": {},
   "outputs": [
    {
     "data": {
      "image/png": "[encoded data removed]",
      "text/plain": [
       "<Figure size 432x288 with 1 Axes>"
      ]
     },
     "metadata": {
      "needs_background": "light"
     },
     "output_type": "display_data"
    }
   ],
   "source": [
    "graph_superposition(model_70_sparsity_relu.weights)"
   ]
  },
  {
   "cell_type": "markdown",
   "id": "c9d37e06-6977-4c72-bd2e-ff7bb7d1178f",
   "metadata": {},
   "source": [
    "## Training ReLU Model (90% sparsity)"
   ]
  },
  {
   "cell_type": "code",
   "execution_count": 16,
   "id": "a629022c-ee3c-4682-81b6-a048e8d065d4",
   "metadata": {},
   "outputs": [],
   "source": [
    "model_90_sparsity_relu = ToyModel(5, 20, True).to(device)"
   ]
  },
  {
   "cell_type": "code",
   "execution_count": null,
   "id": "6b699f1a-bd8d-4a19-bfea-f85446ac2bce",
   "metadata": {},
   "outputs": [
    {
     "name": "stdout",
     "output_type": "stream",
     "text": [
      "(EPOCH: 1) --> loss: 0.1285799600426356\n"
     ]
    }
   ],
   "source": [
    "SPARSITY = 0.90\n",
    "optimizer = torch.optim.SGD(model_90_sparsity_relu.parameters(), lr=LEARNING_RATE)\n",
    "loss_func = ImporanceWeightedMSE()\n",
    "\n",
    "train(model_90_sparsity_relu, NUM_EPOCHS, BATCHS_PER_EPOCH, BATCH_SIZE, loss_func, optimizer, IMPORTANCE, SPARSITY)"
   ]
  },
  {
   "cell_type": "code",
   "execution_count": null,
   "id": "ba2772e6-d898-4242-8295-a170f77e5078",
   "metadata": {},
   "outputs": [],
   "source": [
    "graph_weights(model_90_sparsity_relu.weights)"
   ]
  },
  {
   "cell_type": "markdown",
   "id": "a3ccbfaf-3497-4ca5-86c5-ce016312efe6",
   "metadata": {},
   "source": [
    "# Training ReLU Model (97% sparsity)"
   ]
  },
  {
   "cell_type": "code",
   "execution_count": null,
   "id": "45039561-fc91-4d18-8d63-b8cd0fa6395c",
   "metadata": {},
   "outputs": [],
   "source": [
    "model_97_sparsity_relu = ToyModel(5, 20, True).to(device)"
   ]
  },
  {
   "cell_type": "code",
   "execution_count": null,
   "id": "4a8cf0ec-1a62-47fa-98e4-18e057a81777",
   "metadata": {},
   "outputs": [],
   "source": [
    "SPARSITY = 0.97\n",
    "optimizer = torch.optim.SGD(model_97_sparsity_relu.parameters(), lr=LEARNING_RATE)\n",
    "loss_func = ImporanceWeightedMSE()\n",
    "\n",
    "train(model_97_sparsity_relu, NUM_EPOCHS, BATCHS_PER_EPOCH, BATCH_SIZE, loss_func, optimizer, IMPORTANCE, SPARSITY)"
   ]
  },
  {
   "cell_type": "code",
   "execution_count": null,
   "id": "47975c4f-32ea-4b12-805d-6948806c7e04",
   "metadata": {},
   "outputs": [],
   "source": [
    "graph_weights(model_97_sparsity_relu.weights)"
   ]
  },
  {
   "cell_type": "markdown",
   "id": "2ac714f2-a299-4a04-b9d4-59095c1e6759",
   "metadata": {},
   "source": [
    "# Training ReLU Model (99% sparsity)"
   ]
  },
  {
   "cell_type": "code",
   "execution_count": null,
   "id": "dc7cffb8-be4e-4ba4-97e8-9aaf0278ab8b",
   "metadata": {},
   "outputs": [],
   "source": [
    "model_99_sparsity_relu = ToyModel(5, 20, True).to(device)"
   ]
  },
  {
   "cell_type": "code",
   "execution_count": null,
   "id": "599679bf-cff9-4a99-8c90-496bb7ec116d",
   "metadata": {},
   "outputs": [],
   "source": [
    "SPARSITY = 0.99\n",
    "optimizer = torch.optim.SGD(model_99_sparsity_relu.parameters(), lr=LEARNING_RATE)\n",
    "loss_func = ImporanceWeightedMSE()\n",
    "\n",
    "train(model_99_sparsity_relu, NUM_EPOCHS, BATCHS_PER_EPOCH, BATCH_SIZE, loss_func, optimizer, IMPORTANCE, SPARSITY)"
   ]
  },
  {
   "cell_type": "code",
   "execution_count": null,
   "id": "834a42c4-2e9b-4f47-aa05-b9d5dc79ea6f",
   "metadata": {},
   "outputs": [],
   "source": [
    "graph_weights(model_99_sparsity_relu.weights)"
   ]
  },
  {
   "cell_type": "markdown",
   "id": "5dfd987f-d2a3-4382-ae4d-c117da41f49f",
   "metadata": {},
   "source": [
    "## Training ReLU Model (99.7 % sparsity)"
   ]
  },
  {
   "cell_type": "code",
   "execution_count": null,
   "id": "9794ffa6-eab7-4e49-a370-b23e96c09498",
   "metadata": {},
   "outputs": [],
   "source": [
    "model_997_sparsity_relu = ToyModel(5, 20, True).to(device)"
   ]
  },
  {
   "cell_type": "code",
   "execution_count": null,
   "id": "7dd65582-e308-41fd-9646-39e39b53bcd8",
   "metadata": {},
   "outputs": [],
   "source": [
    "SPARSITY = 0.997\n",
    "optimizer = torch.optim.SGD(model_997_sparsity_relu.parameters(), lr=LEARNING_RATE)\n",
    "loss_func = ImporanceWeightedMSE()\n",
    "\n",
    "train(model_997_sparsity_relu, NUM_EPOCHS, BATCHS_PER_EPOCH, BATCH_SIZE, loss_func, optimizer, IMPORTANCE, SPARSITY)"
   ]
  },
  {
   "cell_type": "code",
   "execution_count": null,
   "id": "21bcb957-c44c-4033-8a8f-ea5911be0ef2",
   "metadata": {},
   "outputs": [],
   "source": [
    "graph_weights(model_997_sparsity_relu.weights)"
   ]
  },
  {
   "cell_type": "markdown",
   "id": "682e9fa0-15d3-408e-8752-3a4c7bba4ff0",
   "metadata": {},
   "source": [
    "## Training ReLU Model (99.9 % sparsity)"
   ]
  },
  {
   "cell_type": "code",
   "execution_count": null,
   "id": "675f1b89-6006-4cf1-830a-051125d6348e",
   "metadata": {},
   "outputs": [],
   "source": [
    "model_999_sparsity_relu = ToyModel(5, 20, True).to(device)"
   ]
  },
  {
   "cell_type": "code",
   "execution_count": null,
   "id": "277f98cf-e3f7-4448-b757-00e086fe2fb3",
   "metadata": {},
   "outputs": [],
   "source": [
    "SPARSITY = 0.999\n",
    "optimizer = torch.optim.SGD(model_999_sparsity_relu.parameters(), lr=LEARNING_RATE)\n",
    "loss_func = ImporanceWeightedMSE()\n",
    "\n",
    "train(model_999_sparsity_relu, NUM_EPOCHS, BATCHS_PER_EPOCH, BATCH_SIZE, loss_func, optimizer, IMPORTANCE, SPARSITY)"
   ]
  },
  {
   "cell_type": "code",
   "execution_count": null,
   "id": "3b9635ca-bb12-477a-af5e-cb43e0dad117",
   "metadata": {},
   "outputs": [],
   "source": [
    "graph_weights(model_999_sparsity_relu.weights)"
   ]
  },
  {
   "cell_type": "code",
   "execution_count": null,
   "id": "2cf495a2-bab2-47e7-8bfc-3721825573e7",
   "metadata": {},
   "outputs": [],
   "source": []
  },
  {
   "cell_type": "code",
   "execution_count": null,
   "id": "f20c6d8e-681b-4012-a81d-f51e77451266",
   "metadata": {},
   "outputs": [],
   "source": []
  },
  {
   "cell_type": "code",
   "execution_count": null,
   "id": "9bf2c7fa-6218-417a-882c-927767ba8376",
   "metadata": {},
   "outputs": [],
   "source": []
  }
 ],
 "metadata": {
  "kernelspec": {
   "display_name": "Python 3",
   "language": "python",
   "name": "python3"
  },
  "language_info": {
   "codemirror_mode": {
    "name": "ipython",
    "version": 3
   },
   "file_extension": ".py",
   "mimetype": "text/x-python",
   "name": "python",
   "nbconvert_exporter": "python",
   "pygments_lexer": "ipython3",
   "version": "3.10.1"
  }
 },
 "nbformat": 4,
 "nbformat_minor": 5
}
