{
 "cells": [
  {
   "cell_type": "code",
   "execution_count": 29,
   "id": "26c4ab04-74a5-4f90-91ee-e8df9ec35b29",
   "metadata": {},
   "outputs": [],
   "source": [
    "import torch\n",
    "import random\n",
    "from torch import nn\n",
    "import matplotlib.pyplot as plt\n",
    "from matplotlib.colors import LinearSegmentedColormap\n",
    "from matplotlib.colors import TwoSlopeNorm"
   ]
  },
  {
   "cell_type": "code",
   "execution_count": 30,
   "id": "c3233e01-4afb-42b7-9dee-b97dbe225cda",
   "metadata": {},
   "outputs": [
    {
     "name": "stdout",
     "output_type": "stream",
     "text": [
      "Using mps device\n"
     ]
    }
   ],
   "source": [
    "def get_device():\n",
    "    if torch.cuda.is_available():\n",
    "        return \"cuda\"\n",
    "    elif torch.backends.mps.is_available():\n",
    "        return \"mps\"\n",
    "    else:\n",
    "        return \"cpu\"\n",
    "\n",
    "device = get_device()\n",
    "print(f\"Using {device} device\")"
   ]
  },
  {
   "cell_type": "code",
   "execution_count": 40,
   "id": "21654185-c13d-427b-aa38-b0c6ab615c8e",
   "metadata": {},
   "outputs": [],
   "source": [
    "class ToyModel(nn.Module):\n",
    "    def __init__(self, m, n, include_ReLU):\n",
    "        '''Create a toy model\n",
    "\n",
    "        Args:\n",
    "            m (int): the number of neurons (as described in original paper)\n",
    "            n (int): the number of features the Toy model can map.\n",
    "            (The weight matrix is delcared to be m * n)\n",
    "\n",
    "            include_ReLU (bool): if True, a nonlinearity is added to the network\n",
    "        '''\n",
    "        super().__init__()\n",
    "        self.weights = nn.Parameter(torch.randn(m, n), requires_grad=True)\n",
    "        self.bias = nn.Parameter(torch.randn(n, 1), requires_grad=True)\n",
    "        self.ReLU = nn.ReLU(inplace=True)\n",
    "        self.inclue_ReLU = include_ReLU\n",
    "        \n",
    "    def forward(self, x): # x is 5 * 1\n",
    "        hidden = self.weights @ x\n",
    "        final = self.weights.T @ hidden\n",
    "        final += self.bias\n",
    "        if self.inclue_ReLU:\n",
    "            return self.ReLU(final)\n",
    "        else:\n",
    "            return final\n",
    "\n",
    "class ImporanceWeightedMSE(nn.Module):\n",
    "    def __init__(self):\n",
    "        super(ImporanceWeightedMSE, self).__init__()\n",
    "\n",
    "    def forward(self, predictions, targets, importance):\n",
    "        sub_total = ((predictions - targets)**2).sum(0).flatten()\n",
    "        return sum(sub_total * importance)"
   ]
  },
  {
   "cell_type": "code",
   "execution_count": 41,
   "id": "2e32a562-a8fc-4847-a63e-afd15c0e576c",
   "metadata": {},
   "outputs": [],
   "source": [
    "def graph_weights(weights):\n",
    "    w = weights.clone().detach()\n",
    "    to_graph = w.T @ w\n",
    "    colors = [(.4, 0, 1), (1, 1, 1), (1, .4, 0)]  # Purple -> White -> Orange\n",
    "    n_bins = 100 \n",
    "    cm = LinearSegmentedColormap.from_list(\"\", colors, N=n_bins)\n",
    "    \n",
    "    norm = TwoSlopeNorm(vmin=-1, vcenter=0, vmax=1)\n",
    "    \n",
    "    plt.imshow(to_graph, cmap=cm, norm=norm)\n",
    "    ax = plt.gca()\n",
    "    ax.set_xticks([])\n",
    "    ax.set_yticks([])\n",
    "    plt.show()"
   ]
  },
  {
   "cell_type": "code",
   "execution_count": 42,
   "id": "20cef974-c2ac-4545-8b28-efc80e37241f",
   "metadata": {},
   "outputs": [],
   "source": [
    "m = ToyModel(5, 20, False)"
   ]
  },
  {
   "cell_type": "code",
   "execution_count": 43,
   "id": "a1992967-19b8-4063-92f0-635bb9985504",
   "metadata": {},
   "outputs": [
    {
     "data": {
      "image/png": "[encoded data removed]",
      "text/plain": [
       "<Figure size 432x288 with 1 Axes>"
      ]
     },
     "metadata": {},
     "output_type": "display_data"
    }
   ],
   "source": [
    "graph_weights(m.weights)"
   ]
  },
  {
   "cell_type": "code",
   "execution_count": 39,
   "id": "eb357d9e-930a-49bd-ab20-e48d9bb3448c",
   "metadata": {},
   "outputs": [
    {
     "data": {
      "text/plain": [
       "Parameter containing:\n",
       "tensor([[0.8681, 0.2192, 0.8177, 0.6633, 0.3221, 0.0217, 0.2746, 0.7589, 0.4455,\n",
       "         0.8091, 0.8196, 0.9448, 0.5870, 0.0852, 0.3755, 0.3041, 0.9415, 0.7284,\n",
       "         0.9474, 0.9627],\n",
       "        [0.1431, 0.3742, 0.9390, 0.9399, 0.3058, 0.0674, 0.9456, 0.9885, 0.3286,\n",
       "         0.4018, 0.7324, 0.1933, 0.9471, 0.0302, 0.4912, 0.2446, 0.8070, 0.3492,\n",
       "         0.4636, 0.1797],\n",
       "        [0.7711, 0.5619, 0.3902, 0.6500, 0.3674, 0.1448, 0.3264, 0.0899, 0.7724,\n",
       "         0.7281, 0.4984, 0.4330, 0.5722, 0.6191, 0.7139, 0.3308, 0.2391, 0.7578,\n",
       "         0.5828, 0.7618],\n",
       "        [0.5426, 0.8700, 0.2486, 0.5180, 0.1603, 0.0349, 0.7188, 0.8283, 0.5123,\n",
       "         0.9262, 0.5853, 0.1758, 0.9219, 0.6034, 0.8731, 0.1932, 0.1342, 0.8879,\n",
       "         0.4352, 0.5642],\n",
       "        [0.1642, 0.8164, 0.8416, 0.4919, 0.2435, 0.9843, 0.5854, 0.4844, 0.9259,\n",
       "         0.8949, 0.0497, 0.4072, 0.0647, 0.1186, 0.4834, 0.2974, 0.6858, 0.5353,\n",
       "         0.5421, 0.8249]], requires_grad=True)"
      ]
     },
     "execution_count": 39,
     "metadata": {},
     "output_type": "execute_result"
    }
   ],
   "source": [
    "m.weights"
   ]
  },
  {
   "cell_type": "code",
   "execution_count": 7,
   "id": "9a40f5af-35f3-44d3-b1c6-1eb30e198b9f",
   "metadata": {},
   "outputs": [
    {
     "data": {
      "image/png": "[encoded data removed]",
      "text/plain": [
       "<Figure size 432x288 with 1 Axes>"
      ]
     },
     "metadata": {},
     "output_type": "display_data"
    }
   ],
   "source": [
    "plt.imshow((m.weights.T @ m.weights).clone().detach(), cmap='hot', interpolation='nearest')\n",
    "# plt.colorbar()  # optional, it adds a color bar to the side\n",
    "ax = plt.gca()\n",
    "ax.set_xticks([])\n",
    "ax.set_yticks([])\n",
    "plt.show()\n"
   ]
  },
  {
   "cell_type": "code",
   "execution_count": 25,
   "id": "2f6580dc-4362-4a92-b2e2-b8a3dc6636b3",
   "metadata": {},
   "outputs": [],
   "source": [
    "z = torch.zeros(20, 20)\n",
    "for i in range(5):\n",
    "    z[i][i] = 1\n",
    "\n",
    "z[8][8] = -0.5\n",
    "z[8][9] = -1"
   ]
  },
  {
   "cell_type": "code",
   "execution_count": 26,
   "id": "adfd8bc0-263b-48b4-aa88-3205f80256c1",
   "metadata": {},
   "outputs": [
    {
     "data": {
      "text/plain": [
       "tensor(-1.)"
      ]
     },
     "execution_count": 26,
     "metadata": {},
     "output_type": "execute_result"
    }
   ],
   "source": [
    "z.min()"
   ]
  },
  {
   "cell_type": "code",
   "execution_count": 27,
   "id": "8cc7d3ee-b0a8-4573-aec6-33fb8fc0f9db",
   "metadata": {},
   "outputs": [
    {
     "data": {
      "text/plain": [
       "tensor(1.)"
      ]
     },
     "execution_count": 27,
     "metadata": {},
     "output_type": "execute_result"
    }
   ],
   "source": [
    "z.max()"
   ]
  },
  {
   "cell_type": "code",
   "execution_count": 28,
   "id": "d39cd958-aff9-412d-83fd-6cc8e7128132",
   "metadata": {},
   "outputs": [
    {
     "data": {
      "image/png": "[encoded data removed]",
      "text/plain": [
       "<Figure size 432x288 with 1 Axes>"
      ]
     },
     "metadata": {},
     "output_type": "display_data"
    }
   ],
   "source": [
    "\n",
    "\n",
    "# Custom color map: Red for negative, White for zero, Blue for positive\n",
    "colors = [(.4, 0, 1), (1, 1, 1), (1, .4, 0)]  # R -> W -> B\n",
    "n_bins = 100  # Number of bins in the colormap\n",
    "cmap_name = 'hello'\n",
    "cm = LinearSegmentedColormap.from_list(cmap_name, colors, N=n_bins)\n",
    "# Creating the heatmap\n",
    "\n",
    "norm = TwoSlopeNorm(vmin=-1, vcenter=0, vmax=1)\n",
    "\n",
    "plt.imshow(z, cmap=cm, norm=norm)\n",
    "ax = plt.gca()\n",
    "ax.set_xticks([])\n",
    "ax.set_yticks([])\n",
    "plt.show()"
   ]
  },
  {
   "cell_type": "code",
   "execution_count": null,
   "id": "77549e09-2ca4-499b-865b-cb04296f5e27",
   "metadata": {},
   "outputs": [],
   "source": []
  }
 ],
 "metadata": {
  "kernelspec": {
   "display_name": "Python 3",
   "language": "python",
   "name": "python3"
  },
  "language_info": {
   "codemirror_mode": {
    "name": "ipython",
    "version": 3
   },
   "file_extension": ".py",
   "mimetype": "text/x-python",
   "name": "python",
   "nbconvert_exporter": "python",
   "pygments_lexer": "ipython3",
   "version": "3.10.1"
  }
 },
 "nbformat": 4,
 "nbformat_minor": 5
}
