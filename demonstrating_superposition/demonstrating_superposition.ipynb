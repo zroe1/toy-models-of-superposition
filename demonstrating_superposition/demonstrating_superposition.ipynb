{
 "cells": [
  {
   "cell_type": "code",
   "execution_count": 5,
   "id": "26c4ab04-74a5-4f90-91ee-e8df9ec35b29",
   "metadata": {},
   "outputs": [],
   "source": [
    "import torch\n",
    "import random\n",
    "from torch import nn\n",
    "import matplotlib.pyplot as plt\n",
    "from matplotlib.colors import LinearSegmentedColormap\n",
    "from matplotlib.colors import TwoSlopeNorm"
   ]
  },
  {
   "cell_type": "code",
   "execution_count": 6,
   "id": "c3233e01-4afb-42b7-9dee-b97dbe225cda",
   "metadata": {},
   "outputs": [
    {
     "name": "stdout",
     "output_type": "stream",
     "text": [
      "Using mps device\n"
     ]
    }
   ],
   "source": [
    "def get_device():\n",
    "    if torch.cuda.is_available():\n",
    "        return \"cuda\"\n",
    "    elif torch.backends.mps.is_available():\n",
    "        return \"mps\"\n",
    "    else:\n",
    "        return \"cpu\"\n",
    "\n",
    "device = get_device()\n",
    "print(f\"Using {device} device\")"
   ]
  },
  {
   "cell_type": "code",
   "execution_count": 7,
   "id": "49894922-05a6-4525-b0bd-6cb0bdcc30d0",
   "metadata": {},
   "outputs": [],
   "source": [
    "IMPORTANCE = (0.7 ** torch.arange(0, 20)).to(device)"
   ]
  },
  {
   "cell_type": "code",
   "execution_count": 8,
   "id": "21654185-c13d-427b-aa38-b0c6ab615c8e",
   "metadata": {},
   "outputs": [],
   "source": [
    "class ToyModel(nn.Module):\n",
    "    def __init__(self, m, n, include_ReLU):\n",
    "        '''Create a toy model\n",
    "\n",
    "        Args:\n",
    "            m (int): the number of neurons (as described in original paper)\n",
    "            n (int): the number of features the Toy model can map.\n",
    "            (The weight matrix is delcared to be m * n)\n",
    "\n",
    "            include_ReLU (bool): if True, a nonlinearity is added to the network\n",
    "        '''\n",
    "        super().__init__()\n",
    "        self.weights = nn.Parameter(torch.randn(m, n), requires_grad=True)\n",
    "        self.bias = nn.Parameter(torch.randn(n, 1), requires_grad=True)\n",
    "        self.ReLU = nn.ReLU(inplace=True)\n",
    "        self.inclue_ReLU = include_ReLU\n",
    "        \n",
    "    def forward(self, x): # x is 5 * 1\n",
    "        # print(\"w\", self.weights)\n",
    "        # print(\"x\", x)\n",
    "        hidden = self.weights @ x\n",
    "        # print(\"hidden\", hidden)\n",
    "        final = self.weights.T @ hidden\n",
    "        final += self.bias\n",
    "        if self.inclue_ReLU:\n",
    "            return self.ReLU(final)\n",
    "        else:\n",
    "            return final\n",
    "\n",
    "class ImporanceWeightedMSE(nn.Module):\n",
    "    def __init__(self):\n",
    "        super(ImporanceWeightedMSE, self).__init__()\n",
    "\n",
    "    def forward(self, predictions, targets, importance):\n",
    "        sub_total = ((predictions - targets)**2).sum(0).flatten()\n",
    "        return sum(sub_total * importance)"
   ]
  },
  {
   "cell_type": "code",
   "execution_count": 9,
   "id": "cc3736e4-45d3-42eb-82ef-bf044ed4963a",
   "metadata": {},
   "outputs": [],
   "source": [
    "def train(model, epochs, total_batchs, batch_size, loss_fn, optimizer, importance, sparsity):\n",
    "    probability = 1 - sparsity\n",
    "    model.train()\n",
    "    loss_total = 0\n",
    "    for epoch in range(epochs):\n",
    "        for i in range(total_batchs):\n",
    "            sparsity_tensor = torch.bernoulli(torch.full((20,1), probability))\n",
    "            x = torch.rand(batch_size, 20, 1)\n",
    "            x = (x*sparsity_tensor).to(device)\n",
    "            pred = model(x)\n",
    "            loss = loss_fn(pred, x, importance)\n",
    "            loss_total += loss.item()\n",
    "    \n",
    "            loss.backward()\n",
    "            optimizer.step()\n",
    "            optimizer.zero_grad()\n",
    "\n",
    "        print(\"(EPOCH:\", str(epoch + 1) + \")\", \"--> loss:\", loss_total / (total_batchs * batch_size))\n",
    "        loss_total = 0"
   ]
  },
  {
   "cell_type": "code",
   "execution_count": 10,
   "id": "2e32a562-a8fc-4847-a63e-afd15c0e576c",
   "metadata": {},
   "outputs": [],
   "source": [
    "def graph_weights(weights):\n",
    "    w = weights.clone().cpu().detach()\n",
    "    to_graph = w.T @ w\n",
    "    colors = [(.4, 0, 1), (1, 1, 1), (1, .4, 0)]  # Purple -> White -> Orange\n",
    "    n_bins = 100 \n",
    "    cm = LinearSegmentedColormap.from_list(\"\", colors, N=n_bins)\n",
    "    \n",
    "    norm = TwoSlopeNorm(vmin=-1, vcenter=0, vmax=1)\n",
    "    \n",
    "    plt.imshow(to_graph, cmap=cm, norm=norm)\n",
    "    ax = plt.gca()\n",
    "    ax.set_xticks([])\n",
    "    ax.set_yticks([])\n",
    "    plt.show()"
   ]
  },
  {
   "cell_type": "markdown",
   "id": "a575a4a9-52e0-4658-81ac-2849c426b05f",
   "metadata": {},
   "source": [
    "## Training linear model"
   ]
  },
  {
   "cell_type": "code",
   "execution_count": 11,
   "id": "98cdbad0-52c3-4c06-a2ad-2b09a3047263",
   "metadata": {},
   "outputs": [],
   "source": [
    "NUM_EPOCHS = 15\n",
    "BATCHS_PER_EPOCH = 4000\n",
    "BATCH_SIZE = 256\n",
    "LEARNING_RATE = 1e-4"
   ]
  },
  {
   "cell_type": "code",
   "execution_count": 12,
   "id": "77549e09-2ca4-499b-865b-cb04296f5e27",
   "metadata": {},
   "outputs": [],
   "source": [
    "model_0_sparsity = ToyModel(5, 20, False).to(device)"
   ]
  },
  {
   "cell_type": "code",
   "execution_count": 13,
   "id": "a4c5c94b-86d7-4811-8ee3-a7e0065f5ee3",
   "metadata": {},
   "outputs": [
    {
     "name": "stdout",
     "output_type": "stream",
     "text": [
      "(EPOCH: 1) --> loss: 0.3025728113539517\n",
      "(EPOCH: 2) --> loss: 0.08713905145227908\n",
      "(EPOCH: 3) --> loss: 0.06785012884996831\n",
      "(EPOCH: 4) --> loss: 0.06400336763076485\n",
      "(EPOCH: 5) --> loss: 0.060425542627461255\n",
      "(EPOCH: 6) --> loss: 0.05506971288658678\n",
      "(EPOCH: 7) --> loss: 0.05091770709678531\n",
      "(EPOCH: 8) --> loss: 0.048603319922462106\n",
      "(EPOCH: 9) --> loss: 0.04743503273278475\n",
      "(EPOCH: 10) --> loss: 0.04690529994945973\n",
      "(EPOCH: 11) --> loss: 0.04670558316353708\n",
      "(EPOCH: 12) --> loss: 0.04657851202785969\n",
      "(EPOCH: 13) --> loss: 0.04650573368091136\n",
      "(EPOCH: 14) --> loss: 0.04648127016332\n",
      "(EPOCH: 15) --> loss: 0.046489003494381904\n"
     ]
    }
   ],
   "source": [
    "SPARSITY = 0.0\n",
    "optimizer = torch.optim.SGD(model_0_sparsity.parameters(), lr=LEARNING_RATE)\n",
    "loss_func = ImporanceWeightedMSE()\n",
    "\n",
    "train(model_0_sparsity, NUM_EPOCHS, BATCHS_PER_EPOCH, BATCH_SIZE, loss_func, optimizer, IMPORTANCE, SPARSITY)"
   ]
  },
  {
   "cell_type": "code",
   "execution_count": 14,
   "id": "45b68ef4-ab30-4035-9e7e-f5c691544c24",
   "metadata": {},
   "outputs": [
    {
     "data": {
      "image/png": "[encoded data removed]",
      "text/plain": [
       "<Figure size 432x288 with 1 Axes>"
      ]
     },
     "metadata": {},
     "output_type": "display_data"
    }
   ],
   "source": [
    "graph_weights(model_0_sparsity.weights)"
   ]
  },
  {
   "cell_type": "markdown",
   "id": "c0e837e4-83dd-49e0-978e-1e2b03bfb9d2",
   "metadata": {},
   "source": [
    "## Training ReLU Model (0 sparsity)"
   ]
  },
  {
   "cell_type": "code",
   "execution_count": 18,
   "id": "8efffa61-3f10-417d-a81e-7cc8ac95fa55",
   "metadata": {},
   "outputs": [],
   "source": [
    "NUM_EPOCHS = 50\n",
    "BATCHS_PER_EPOCH = 4000\n",
    "BATCH_SIZE = 500\n",
    "LEARNING_RATE = 1e-4"
   ]
  },
  {
   "cell_type": "code",
   "execution_count": 19,
   "id": "7e0ebb63-8ed8-47ac-968f-ae243749c48c",
   "metadata": {},
   "outputs": [],
   "source": [
    "model_0_sparsity_relu = ToyModel(5, 20, True).to(device)"
   ]
  },
  {
   "cell_type": "code",
   "execution_count": 20,
   "id": "8b498099-b5f9-4a64-81b5-a6b18b542c50",
   "metadata": {},
   "outputs": [
    {
     "name": "stdout",
     "output_type": "stream",
     "text": [
      "(EPOCH: 1) --> loss: 0.21245380756950377\n",
      "(EPOCH: 2) --> loss: 0.07018802813720704\n",
      "(EPOCH: 3) --> loss: 0.06100640020275116\n",
      "(EPOCH: 4) --> loss: 0.05253225974559784\n",
      "(EPOCH: 5) --> loss: 0.04883546530151367\n",
      "(EPOCH: 6) --> loss: 0.04791476713180542\n",
      "(EPOCH: 7) --> loss: 0.047712101135253905\n",
      "(EPOCH: 8) --> loss: 0.04768273363494873\n",
      "(EPOCH: 9) --> loss: 0.04765415929222107\n",
      "(EPOCH: 10) --> loss: 0.04763690465450287\n",
      "(EPOCH: 11) --> loss: 0.04766074620056152\n",
      "(EPOCH: 12) --> loss: 0.04762640461540222\n",
      "(EPOCH: 13) --> loss: 0.047651846128463744\n",
      "(EPOCH: 14) --> loss: 0.04764143036556244\n",
      "(EPOCH: 15) --> loss: 0.04766468456363678\n",
      "(EPOCH: 16) --> loss: 0.04764393574810028\n",
      "(EPOCH: 17) --> loss: 0.047668430057525635\n",
      "(EPOCH: 18) --> loss: 0.04763409361553192\n",
      "(EPOCH: 19) --> loss: 0.04765093482494354\n",
      "(EPOCH: 20) --> loss: 0.04764182009696961\n",
      "(EPOCH: 21) --> loss: 0.047670030816078186\n",
      "(EPOCH: 22) --> loss: 0.04766962497043609\n",
      "(EPOCH: 23) --> loss: 0.04766508667087555\n",
      "(EPOCH: 24) --> loss: 0.04762766465377807\n",
      "(EPOCH: 25) --> loss: 0.047642345922470096\n",
      "(EPOCH: 26) --> loss: 0.04764923607635498\n",
      "(EPOCH: 27) --> loss: 0.04766651530361175\n",
      "(EPOCH: 28) --> loss: 0.04763730865001679\n",
      "(EPOCH: 29) --> loss: 0.047637385415077206\n",
      "(EPOCH: 30) --> loss: 0.04764116574192047\n",
      "(EPOCH: 31) --> loss: 0.04764971822738647\n",
      "(EPOCH: 32) --> loss: 0.04763615958690643\n",
      "(EPOCH: 33) --> loss: 0.047644985489845276\n",
      "(EPOCH: 34) --> loss: 0.0476372446308136\n",
      "(EPOCH: 35) --> loss: 0.04764562345790863\n",
      "(EPOCH: 36) --> loss: 0.04766223192501068\n",
      "(EPOCH: 37) --> loss: 0.04766344539833069\n",
      "(EPOCH: 38) --> loss: 0.04764752736473084\n",
      "(EPOCH: 39) --> loss: 0.047663224606513975\n",
      "(EPOCH: 40) --> loss: 0.047624984148979185\n",
      "(EPOCH: 41) --> loss: 0.04766698527622223\n",
      "(EPOCH: 42) --> loss: 0.04766363079738617\n",
      "(EPOCH: 43) --> loss: 0.04767403857135773\n",
      "(EPOCH: 44) --> loss: 0.04764357900428772\n",
      "(EPOCH: 45) --> loss: 0.04767570035457611\n",
      "(EPOCH: 46) --> loss: 0.047661673851013185\n",
      "(EPOCH: 47) --> loss: 0.04765615143013\n",
      "(EPOCH: 48) --> loss: 0.0476468097076416\n",
      "(EPOCH: 49) --> loss: 0.047676257058143615\n",
      "(EPOCH: 50) --> loss: 0.04764030529975891\n"
     ]
    }
   ],
   "source": [
    "SPARSITY = 0.0\n",
    "optimizer = torch.optim.SGD(model_0_sparsity_relu.parameters(), lr=LEARNING_RATE)\n",
    "loss_func = ImporanceWeightedMSE()\n",
    "\n",
    "train(model_0_sparsity_relu, NUM_EPOCHS, BATCHS_PER_EPOCH, BATCH_SIZE, loss_func, optimizer, IMPORTANCE, SPARSITY)"
   ]
  },
  {
   "cell_type": "code",
   "execution_count": 21,
   "id": "6fc913c6-cd07-43ec-8d68-1979422edf03",
   "metadata": {},
   "outputs": [
    {
     "data": {
      "image/png": "[encoded data removed]",
      "text/plain": [
       "<Figure size 432x288 with 1 Axes>"
      ]
     },
     "metadata": {},
     "output_type": "display_data"
    }
   ],
   "source": [
    "graph_weights(model_0_sparsity_relu.weights)"
   ]
  },
  {
   "cell_type": "markdown",
   "id": "42ed839a-581b-4df5-a007-bc1d0f4c1487",
   "metadata": {},
   "source": [
    "## Training ReLU Model (70% sparsity)"
   ]
  },
  {
   "cell_type": "code",
   "execution_count": 13,
   "id": "e18b9ddf-6722-4ce8-9ac0-24f661947243",
   "metadata": {},
   "outputs": [],
   "source": [
    "model_70_sparsity_relu = ToyModel(5, 20, True).to(device)"
   ]
  },
  {
   "cell_type": "code",
   "execution_count": 14,
   "id": "af3cfd7a-1cb6-4d50-8077-860beb3cfafd",
   "metadata": {},
   "outputs": [
    {
     "name": "stdout",
     "output_type": "stream",
     "text": [
      "(EPOCH: 1) --> loss: 0.21182080697019895\n",
      "(EPOCH: 2) --> loss: 0.07499559527037045\n",
      "(EPOCH: 3) --> loss: 0.06742155845766266\n",
      "(EPOCH: 4) --> loss: 0.0635457372436424\n",
      "(EPOCH: 5) --> loss: 0.06161941858356198\n",
      "(EPOCH: 6) --> loss: 0.060376567224413154\n",
      "(EPOCH: 7) --> loss: 0.058623335732320946\n",
      "(EPOCH: 8) --> loss: 0.05682082992091775\n",
      "(EPOCH: 9) --> loss: 0.055961754209796585\n",
      "(EPOCH: 10) --> loss: 0.055609868921935555\n",
      "(EPOCH: 11) --> loss: 0.05664401209846139\n",
      "(EPOCH: 12) --> loss: 0.0567901772112151\n",
      "(EPOCH: 13) --> loss: 0.05590158065761129\n",
      "(EPOCH: 14) --> loss: 0.05524404172326128\n",
      "(EPOCH: 15) --> loss: 0.056506387150337296\n",
      "(EPOCH: 16) --> loss: 0.055843771949311095\n",
      "(EPOCH: 17) --> loss: 0.05601373016014695\n",
      "(EPOCH: 18) --> loss: 0.05593724426120519\n",
      "(EPOCH: 19) --> loss: 0.05617224360366662\n",
      "(EPOCH: 20) --> loss: 0.05452145347575347\n",
      "(EPOCH: 21) --> loss: 0.054580224439501765\n",
      "(EPOCH: 22) --> loss: 0.05713715182115634\n",
      "(EPOCH: 23) --> loss: 0.056957238206962746\n",
      "(EPOCH: 24) --> loss: 0.056131431657274564\n",
      "(EPOCH: 25) --> loss: 0.055657819285839794\n",
      "(EPOCH: 26) --> loss: 0.05472096516102552\n",
      "(EPOCH: 27) --> loss: 0.05667404392456015\n",
      "(EPOCH: 28) --> loss: 0.05583104441722234\n",
      "(EPOCH: 29) --> loss: 0.05522215279628833\n",
      "(EPOCH: 30) --> loss: 0.056078123994072276\n"
     ]
    }
   ],
   "source": [
    "SPARSITY = 0.70\n",
    "optimizer = torch.optim.SGD(model_70_sparsity_relu.parameters(), lr=LEARNING_RATE)\n",
    "loss_func = ImporanceWeightedMSE()\n",
    "\n",
    "train(model_70_sparsity_relu, NUM_EPOCHS, BATCHS_PER_EPOCH, BATCH_SIZE, loss_func, optimizer, IMPORTANCE, SPARSITY)"
   ]
  },
  {
   "cell_type": "code",
   "execution_count": 15,
   "id": "5c31f542-a076-4c5a-bc9e-814b93f57549",
   "metadata": {},
   "outputs": [
    {
     "data": {
      "image/png": "[encoded data removed]",
      "text/plain": [
       "<Figure size 432x288 with 1 Axes>"
      ]
     },
     "metadata": {},
     "output_type": "display_data"
    }
   ],
   "source": [
    "graph_weights(model_70_sparsity_relu.weights)"
   ]
  },
  {
   "cell_type": "markdown",
   "id": "c9d37e06-6977-4c72-bd2e-ff7bb7d1178f",
   "metadata": {},
   "source": [
    "## Training ReLU Model (90% sparsity)"
   ]
  },
  {
   "cell_type": "code",
   "execution_count": 16,
   "id": "a629022c-ee3c-4682-81b6-a048e8d065d4",
   "metadata": {},
   "outputs": [],
   "source": [
    "model_90_sparsity_relu = ToyModel(5, 20, True).to(device)"
   ]
  },
  {
   "cell_type": "code",
   "execution_count": null,
   "id": "6b699f1a-bd8d-4a19-bfea-f85446ac2bce",
   "metadata": {},
   "outputs": [
    {
     "name": "stdout",
     "output_type": "stream",
     "text": [
      "(EPOCH: 1) --> loss: 0.1285799600426356\n"
     ]
    }
   ],
   "source": [
    "SPARSITY = 0.90\n",
    "optimizer = torch.optim.SGD(model_90_sparsity_relu.parameters(), lr=LEARNING_RATE)\n",
    "loss_func = ImporanceWeightedMSE()\n",
    "\n",
    "train(model_90_sparsity_relu, NUM_EPOCHS, BATCHS_PER_EPOCH, BATCH_SIZE, loss_func, optimizer, IMPORTANCE, SPARSITY)"
   ]
  },
  {
   "cell_type": "code",
   "execution_count": null,
   "id": "ba2772e6-d898-4242-8295-a170f77e5078",
   "metadata": {},
   "outputs": [],
   "source": [
    "graph_weights(model_90_sparsity_relu.weights)"
   ]
  },
  {
   "cell_type": "markdown",
   "id": "a3ccbfaf-3497-4ca5-86c5-ce016312efe6",
   "metadata": {},
   "source": [
    "# Training ReLU Model (97% sparsity)"
   ]
  },
  {
   "cell_type": "code",
   "execution_count": null,
   "id": "45039561-fc91-4d18-8d63-b8cd0fa6395c",
   "metadata": {},
   "outputs": [],
   "source": [
    "model_97_sparsity_relu = ToyModel(5, 20, True).to(device)"
   ]
  },
  {
   "cell_type": "code",
   "execution_count": null,
   "id": "4a8cf0ec-1a62-47fa-98e4-18e057a81777",
   "metadata": {},
   "outputs": [],
   "source": [
    "SPARSITY = 0.97\n",
    "optimizer = torch.optim.SGD(model_97_sparsity_relu.parameters(), lr=LEARNING_RATE)\n",
    "loss_func = ImporanceWeightedMSE()\n",
    "\n",
    "train(model_97_sparsity_relu, NUM_EPOCHS, BATCHS_PER_EPOCH, BATCH_SIZE, loss_func, optimizer, IMPORTANCE, SPARSITY)"
   ]
  },
  {
   "cell_type": "code",
   "execution_count": null,
   "id": "47975c4f-32ea-4b12-805d-6948806c7e04",
   "metadata": {},
   "outputs": [],
   "source": [
    "graph_weights(model_97_sparsity_relu.weights)"
   ]
  },
  {
   "cell_type": "markdown",
   "id": "2ac714f2-a299-4a04-b9d4-59095c1e6759",
   "metadata": {},
   "source": [
    "# Training ReLU Model (99% sparsity)"
   ]
  },
  {
   "cell_type": "code",
   "execution_count": null,
   "id": "dc7cffb8-be4e-4ba4-97e8-9aaf0278ab8b",
   "metadata": {},
   "outputs": [],
   "source": [
    "model_99_sparsity_relu = ToyModel(5, 20, True).to(device)"
   ]
  },
  {
   "cell_type": "code",
   "execution_count": null,
   "id": "599679bf-cff9-4a99-8c90-496bb7ec116d",
   "metadata": {},
   "outputs": [],
   "source": [
    "SPARSITY = 0.99\n",
    "optimizer = torch.optim.SGD(model_99_sparsity_relu.parameters(), lr=LEARNING_RATE)\n",
    "loss_func = ImporanceWeightedMSE()\n",
    "\n",
    "train(model_99_sparsity_relu, NUM_EPOCHS, BATCHS_PER_EPOCH, BATCH_SIZE, loss_func, optimizer, IMPORTANCE, SPARSITY)"
   ]
  },
  {
   "cell_type": "code",
   "execution_count": null,
   "id": "834a42c4-2e9b-4f47-aa05-b9d5dc79ea6f",
   "metadata": {},
   "outputs": [],
   "source": [
    "graph_weights(model_99_sparsity_relu.weights)"
   ]
  },
  {
   "cell_type": "markdown",
   "id": "5dfd987f-d2a3-4382-ae4d-c117da41f49f",
   "metadata": {},
   "source": [
    "## Training ReLU Model (99.7 % sparsity)"
   ]
  },
  {
   "cell_type": "code",
   "execution_count": null,
   "id": "9794ffa6-eab7-4e49-a370-b23e96c09498",
   "metadata": {},
   "outputs": [],
   "source": [
    "model_997_sparsity_relu = ToyModel(5, 20, True).to(device)"
   ]
  },
  {
   "cell_type": "code",
   "execution_count": null,
   "id": "7dd65582-e308-41fd-9646-39e39b53bcd8",
   "metadata": {},
   "outputs": [],
   "source": [
    "SPARSITY = 0.997\n",
    "optimizer = torch.optim.SGD(model_997_sparsity_relu.parameters(), lr=LEARNING_RATE)\n",
    "loss_func = ImporanceWeightedMSE()\n",
    "\n",
    "train(model_997_sparsity_relu, NUM_EPOCHS, BATCHS_PER_EPOCH, BATCH_SIZE, loss_func, optimizer, IMPORTANCE, SPARSITY)"
   ]
  },
  {
   "cell_type": "code",
   "execution_count": null,
   "id": "21bcb957-c44c-4033-8a8f-ea5911be0ef2",
   "metadata": {},
   "outputs": [],
   "source": [
    "graph_weights(model_997_sparsity_relu.weights)"
   ]
  },
  {
   "cell_type": "markdown",
   "id": "682e9fa0-15d3-408e-8752-3a4c7bba4ff0",
   "metadata": {},
   "source": [
    "## Training ReLU Model (99.9 % sparsity)"
   ]
  },
  {
   "cell_type": "code",
   "execution_count": null,
   "id": "675f1b89-6006-4cf1-830a-051125d6348e",
   "metadata": {},
   "outputs": [],
   "source": [
    "model_999_sparsity_relu = ToyModel(5, 20, True).to(device)"
   ]
  },
  {
   "cell_type": "code",
   "execution_count": null,
   "id": "277f98cf-e3f7-4448-b757-00e086fe2fb3",
   "metadata": {},
   "outputs": [],
   "source": [
    "SPARSITY = 0.999\n",
    "optimizer = torch.optim.SGD(model_999_sparsity_relu.parameters(), lr=LEARNING_RATE)\n",
    "loss_func = ImporanceWeightedMSE()\n",
    "\n",
    "train(model_999_sparsity_relu, NUM_EPOCHS, BATCHS_PER_EPOCH, BATCH_SIZE, loss_func, optimizer, IMPORTANCE, SPARSITY)"
   ]
  },
  {
   "cell_type": "code",
   "execution_count": null,
   "id": "3b9635ca-bb12-477a-af5e-cb43e0dad117",
   "metadata": {},
   "outputs": [],
   "source": [
    "graph_weights(model_999_sparsity_relu.weights)"
   ]
  },
  {
   "cell_type": "code",
   "execution_count": null,
   "id": "2cf495a2-bab2-47e7-8bfc-3721825573e7",
   "metadata": {},
   "outputs": [],
   "source": []
  },
  {
   "cell_type": "code",
   "execution_count": null,
   "id": "f20c6d8e-681b-4012-a81d-f51e77451266",
   "metadata": {},
   "outputs": [],
   "source": []
  },
  {
   "cell_type": "code",
   "execution_count": null,
   "id": "9bf2c7fa-6218-417a-882c-927767ba8376",
   "metadata": {},
   "outputs": [],
   "source": []
  }
 ],
 "metadata": {
  "kernelspec": {
   "display_name": "Python 3",
   "language": "python",
   "name": "python3"
  },
  "language_info": {
   "codemirror_mode": {
    "name": "ipython",
    "version": 3
   },
   "file_extension": ".py",
   "mimetype": "text/x-python",
   "name": "python",
   "nbconvert_exporter": "python",
   "pygments_lexer": "ipython3",
   "version": "3.10.1"
  }
 },
 "nbformat": 4,
 "nbformat_minor": 5
}
